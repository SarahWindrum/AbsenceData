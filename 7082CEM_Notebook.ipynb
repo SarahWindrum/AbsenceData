{
 "cells": [
  {
   "cell_type": "code",
   "execution_count": 2,
   "id": "6c9e61e7",
   "metadata": {},
   "outputs": [],
   "source": [
    "import pyspark\n",
    "from pyspark.sql import SparkSession\n",
    "spark = SparkSession.builder.getOrCreate()"
   ]
  },
  {
   "cell_type": "code",
   "execution_count": 3,
   "id": "23dbb741",
   "metadata": {},
   "outputs": [],
   "source": [
    "df = spark.read.csv(\"Absenteeism_at_work.csv\", header=True, inferSchema=True)"
   ]
  },
  {
   "cell_type": "code",
   "execution_count": 4,
   "id": "09f96bf9",
   "metadata": {},
   "outputs": [
    {
     "data": {
      "text/plain": [
       "pyspark.sql.dataframe.DataFrame"
      ]
     },
     "execution_count": 4,
     "metadata": {},
     "output_type": "execute_result"
    }
   ],
   "source": [
    "type(df)"
   ]
  },
  {
   "cell_type": "code",
   "execution_count": 22,
   "id": "6b0529ce",
   "metadata": {},
   "outputs": [
    {
     "name": "stdout",
     "output_type": "stream",
     "text": [
      "+---+------------------+----------------+---------------+-------+----------------------+-------------------------------+------------+---+----------------------+----------+--------------------+-----------+--------+--------------+-------------+---+------+------+---------------+-------------------------+\n",
      "| ID|Reason for absence|Month of absence|Day of the week|Seasons|Transportation expense|Distance from Residence to Work|Service time|Age|Work load Average/day |Hit target|Disciplinary failure|  Education|Children|Social drinker|Social smoker|Pet|Weight|Height|Body mass index|Absenteeism time in hours|\n",
      "+---+------------------+----------------+---------------+-------+----------------------+-------------------------------+------------+---+----------------------+----------+--------------------+-----------+--------+--------------+-------------+---+------+------+---------------+-------------------------+\n",
      "| 11|              XXVI|             JUL|           TUES| Summer|                   289|                             36|          13| 33|               239.554|        97|               false|High School|       2|          true|        false|  1|    90|   172|             30|                        4|\n",
      "| 36|                 0|             JUL|           TUES| Summer|                   118|                             13|          18| 50|               239.554|        97|                true|High School|       1|          true|        false|  0|    98|   178|             31|                        0|\n",
      "|  3|             XXIII|             JUL|            WED| Summer|                   179|                             51|          18| 38|               239.554|        97|               false|High School|       0|          true|        false|  0|    89|   170|             31|                        2|\n",
      "|  7|               VII|             JUL|          THURS| Summer|                   279|                              5|          14| 39|               239.554|        97|               false|High School|       2|          true|         true|  0|    68|   168|             24|                        4|\n",
      "| 11|             XXIII|             JUL|          THURS| Summer|                   289|                             36|          13| 33|               239.554|        97|               false|High School|       2|          true|        false|  1|    90|   172|             30|                        2|\n",
      "+---+------------------+----------------+---------------+-------+----------------------+-------------------------------+------------+---+----------------------+----------+--------------------+-----------+--------+--------------+-------------+---+------+------+---------------+-------------------------+\n",
      "only showing top 5 rows\n",
      "\n"
     ]
    }
   ],
   "source": [
    "df.show(5)\n",
    "# https://www.nbshare.io/notebook/187478734/How-To-Read-CSV-File-Using-Python-PySpark/"
   ]
  },
  {
   "cell_type": "code",
   "execution_count": 23,
   "id": "aa04b46d",
   "metadata": {},
   "outputs": [
    {
     "name": "stdout",
     "output_type": "stream",
     "text": [
      "root\n",
      " |-- ID: integer (nullable = true)\n",
      " |-- Reason for absence: string (nullable = true)\n",
      " |-- Month of absence: string (nullable = true)\n",
      " |-- Day of the week: string (nullable = true)\n",
      " |-- Seasons: string (nullable = true)\n",
      " |-- Transportation expense: integer (nullable = true)\n",
      " |-- Distance from Residence to Work: integer (nullable = true)\n",
      " |-- Service time: integer (nullable = true)\n",
      " |-- Age: integer (nullable = true)\n",
      " |-- Work load Average/day : double (nullable = true)\n",
      " |-- Hit target: integer (nullable = true)\n",
      " |-- Disciplinary failure: boolean (nullable = true)\n",
      " |-- Education: string (nullable = true)\n",
      " |-- Children: integer (nullable = true)\n",
      " |-- Social drinker: boolean (nullable = true)\n",
      " |-- Social smoker: boolean (nullable = true)\n",
      " |-- Pet: integer (nullable = true)\n",
      " |-- Weight: integer (nullable = true)\n",
      " |-- Height: integer (nullable = true)\n",
      " |-- Body mass index: integer (nullable = true)\n",
      " |-- Absenteeism time in hours: integer (nullable = true)\n",
      "\n"
     ]
    }
   ],
   "source": [
    "df.printSchema()"
   ]
  },
  {
   "cell_type": "code",
   "execution_count": 26,
   "id": "3e25fde0",
   "metadata": {},
   "outputs": [
    {
     "data": {
      "text/plain": [
       "['ID',\n",
       " 'Reason for absence',\n",
       " 'Month of absence',\n",
       " 'Day of the week',\n",
       " 'Seasons',\n",
       " 'Transportation expense',\n",
       " 'Distance from Residence to Work',\n",
       " 'Service time',\n",
       " 'Age',\n",
       " 'Work load Average/day ',\n",
       " 'Hit target',\n",
       " 'Disciplinary failure',\n",
       " 'Education',\n",
       " 'Children',\n",
       " 'Social drinker',\n",
       " 'Social smoker',\n",
       " 'Pet',\n",
       " 'Weight',\n",
       " 'Height',\n",
       " 'Body mass index',\n",
       " 'Absenteeism time in hours']"
      ]
     },
     "execution_count": 26,
     "metadata": {},
     "output_type": "execute_result"
    }
   ],
   "source": [
    "df.columns"
   ]
  },
  {
   "cell_type": "code",
   "execution_count": 30,
   "id": "5922c954",
   "metadata": {},
   "outputs": [
    {
     "data": {
      "text/html": [
       "<div>\n",
       "<style scoped>\n",
       "    .dataframe tbody tr th:only-of-type {\n",
       "        vertical-align: middle;\n",
       "    }\n",
       "\n",
       "    .dataframe tbody tr th {\n",
       "        vertical-align: top;\n",
       "    }\n",
       "\n",
       "    .dataframe thead th {\n",
       "        text-align: right;\n",
       "    }\n",
       "</style>\n",
       "<table border=\"1\" class=\"dataframe\">\n",
       "  <thead>\n",
       "    <tr style=\"text-align: right;\">\n",
       "      <th></th>\n",
       "      <th>ID</th>\n",
       "      <th>Reason for absence</th>\n",
       "      <th>Month of absence</th>\n",
       "      <th>Day of the week</th>\n",
       "      <th>Seasons</th>\n",
       "      <th>Transportation expense</th>\n",
       "      <th>Distance from Residence to Work</th>\n",
       "      <th>Service time</th>\n",
       "      <th>Age</th>\n",
       "      <th>Work load Average/day</th>\n",
       "      <th>...</th>\n",
       "      <th>Disciplinary failure</th>\n",
       "      <th>Education</th>\n",
       "      <th>Children</th>\n",
       "      <th>Social drinker</th>\n",
       "      <th>Social smoker</th>\n",
       "      <th>Pet</th>\n",
       "      <th>Weight</th>\n",
       "      <th>Height</th>\n",
       "      <th>Body mass index</th>\n",
       "      <th>Absenteeism time in hours</th>\n",
       "    </tr>\n",
       "  </thead>\n",
       "  <tbody>\n",
       "    <tr>\n",
       "      <th>0</th>\n",
       "      <td>11</td>\n",
       "      <td>XXVI</td>\n",
       "      <td>JUL</td>\n",
       "      <td>TUES</td>\n",
       "      <td>Summer</td>\n",
       "      <td>289</td>\n",
       "      <td>36</td>\n",
       "      <td>13</td>\n",
       "      <td>33</td>\n",
       "      <td>239.554</td>\n",
       "      <td>...</td>\n",
       "      <td>False</td>\n",
       "      <td>High School</td>\n",
       "      <td>2</td>\n",
       "      <td>True</td>\n",
       "      <td>False</td>\n",
       "      <td>1</td>\n",
       "      <td>90</td>\n",
       "      <td>172</td>\n",
       "      <td>30</td>\n",
       "      <td>4</td>\n",
       "    </tr>\n",
       "    <tr>\n",
       "      <th>1</th>\n",
       "      <td>36</td>\n",
       "      <td>0</td>\n",
       "      <td>JUL</td>\n",
       "      <td>TUES</td>\n",
       "      <td>Summer</td>\n",
       "      <td>118</td>\n",
       "      <td>13</td>\n",
       "      <td>18</td>\n",
       "      <td>50</td>\n",
       "      <td>239.554</td>\n",
       "      <td>...</td>\n",
       "      <td>True</td>\n",
       "      <td>High School</td>\n",
       "      <td>1</td>\n",
       "      <td>True</td>\n",
       "      <td>False</td>\n",
       "      <td>0</td>\n",
       "      <td>98</td>\n",
       "      <td>178</td>\n",
       "      <td>31</td>\n",
       "      <td>0</td>\n",
       "    </tr>\n",
       "    <tr>\n",
       "      <th>2</th>\n",
       "      <td>3</td>\n",
       "      <td>XXIII</td>\n",
       "      <td>JUL</td>\n",
       "      <td>WED</td>\n",
       "      <td>Summer</td>\n",
       "      <td>179</td>\n",
       "      <td>51</td>\n",
       "      <td>18</td>\n",
       "      <td>38</td>\n",
       "      <td>239.554</td>\n",
       "      <td>...</td>\n",
       "      <td>False</td>\n",
       "      <td>High School</td>\n",
       "      <td>0</td>\n",
       "      <td>True</td>\n",
       "      <td>False</td>\n",
       "      <td>0</td>\n",
       "      <td>89</td>\n",
       "      <td>170</td>\n",
       "      <td>31</td>\n",
       "      <td>2</td>\n",
       "    </tr>\n",
       "    <tr>\n",
       "      <th>3</th>\n",
       "      <td>7</td>\n",
       "      <td>VII</td>\n",
       "      <td>JUL</td>\n",
       "      <td>THURS</td>\n",
       "      <td>Summer</td>\n",
       "      <td>279</td>\n",
       "      <td>5</td>\n",
       "      <td>14</td>\n",
       "      <td>39</td>\n",
       "      <td>239.554</td>\n",
       "      <td>...</td>\n",
       "      <td>False</td>\n",
       "      <td>High School</td>\n",
       "      <td>2</td>\n",
       "      <td>True</td>\n",
       "      <td>True</td>\n",
       "      <td>0</td>\n",
       "      <td>68</td>\n",
       "      <td>168</td>\n",
       "      <td>24</td>\n",
       "      <td>4</td>\n",
       "    </tr>\n",
       "    <tr>\n",
       "      <th>4</th>\n",
       "      <td>11</td>\n",
       "      <td>XXIII</td>\n",
       "      <td>JUL</td>\n",
       "      <td>THURS</td>\n",
       "      <td>Summer</td>\n",
       "      <td>289</td>\n",
       "      <td>36</td>\n",
       "      <td>13</td>\n",
       "      <td>33</td>\n",
       "      <td>239.554</td>\n",
       "      <td>...</td>\n",
       "      <td>False</td>\n",
       "      <td>High School</td>\n",
       "      <td>2</td>\n",
       "      <td>True</td>\n",
       "      <td>False</td>\n",
       "      <td>1</td>\n",
       "      <td>90</td>\n",
       "      <td>172</td>\n",
       "      <td>30</td>\n",
       "      <td>2</td>\n",
       "    </tr>\n",
       "    <tr>\n",
       "      <th>...</th>\n",
       "      <td>...</td>\n",
       "      <td>...</td>\n",
       "      <td>...</td>\n",
       "      <td>...</td>\n",
       "      <td>...</td>\n",
       "      <td>...</td>\n",
       "      <td>...</td>\n",
       "      <td>...</td>\n",
       "      <td>...</td>\n",
       "      <td>...</td>\n",
       "      <td>...</td>\n",
       "      <td>...</td>\n",
       "      <td>...</td>\n",
       "      <td>...</td>\n",
       "      <td>...</td>\n",
       "      <td>...</td>\n",
       "      <td>...</td>\n",
       "      <td>...</td>\n",
       "      <td>...</td>\n",
       "      <td>...</td>\n",
       "      <td>...</td>\n",
       "    </tr>\n",
       "    <tr>\n",
       "      <th>735</th>\n",
       "      <td>11</td>\n",
       "      <td>XIV</td>\n",
       "      <td>JUL</td>\n",
       "      <td>TUES</td>\n",
       "      <td>Summer</td>\n",
       "      <td>289</td>\n",
       "      <td>36</td>\n",
       "      <td>13</td>\n",
       "      <td>33</td>\n",
       "      <td>264.604</td>\n",
       "      <td>...</td>\n",
       "      <td>False</td>\n",
       "      <td>High School</td>\n",
       "      <td>2</td>\n",
       "      <td>True</td>\n",
       "      <td>False</td>\n",
       "      <td>1</td>\n",
       "      <td>90</td>\n",
       "      <td>172</td>\n",
       "      <td>30</td>\n",
       "      <td>8</td>\n",
       "    </tr>\n",
       "    <tr>\n",
       "      <th>736</th>\n",
       "      <td>1</td>\n",
       "      <td>XI</td>\n",
       "      <td>JUL</td>\n",
       "      <td>TUES</td>\n",
       "      <td>Summer</td>\n",
       "      <td>235</td>\n",
       "      <td>11</td>\n",
       "      <td>14</td>\n",
       "      <td>37</td>\n",
       "      <td>264.604</td>\n",
       "      <td>...</td>\n",
       "      <td>False</td>\n",
       "      <td>Postgrad</td>\n",
       "      <td>1</td>\n",
       "      <td>False</td>\n",
       "      <td>False</td>\n",
       "      <td>1</td>\n",
       "      <td>88</td>\n",
       "      <td>172</td>\n",
       "      <td>29</td>\n",
       "      <td>4</td>\n",
       "    </tr>\n",
       "    <tr>\n",
       "      <th>737</th>\n",
       "      <td>4</td>\n",
       "      <td>0</td>\n",
       "      <td>0</td>\n",
       "      <td>TUES</td>\n",
       "      <td>Summer</td>\n",
       "      <td>118</td>\n",
       "      <td>14</td>\n",
       "      <td>13</td>\n",
       "      <td>40</td>\n",
       "      <td>271.219</td>\n",
       "      <td>...</td>\n",
       "      <td>False</td>\n",
       "      <td>High School</td>\n",
       "      <td>1</td>\n",
       "      <td>True</td>\n",
       "      <td>False</td>\n",
       "      <td>8</td>\n",
       "      <td>98</td>\n",
       "      <td>170</td>\n",
       "      <td>34</td>\n",
       "      <td>0</td>\n",
       "    </tr>\n",
       "    <tr>\n",
       "      <th>738</th>\n",
       "      <td>8</td>\n",
       "      <td>0</td>\n",
       "      <td>0</td>\n",
       "      <td>WED</td>\n",
       "      <td>Autumn</td>\n",
       "      <td>231</td>\n",
       "      <td>35</td>\n",
       "      <td>14</td>\n",
       "      <td>39</td>\n",
       "      <td>271.219</td>\n",
       "      <td>...</td>\n",
       "      <td>False</td>\n",
       "      <td>High School</td>\n",
       "      <td>2</td>\n",
       "      <td>True</td>\n",
       "      <td>False</td>\n",
       "      <td>2</td>\n",
       "      <td>100</td>\n",
       "      <td>170</td>\n",
       "      <td>35</td>\n",
       "      <td>0</td>\n",
       "    </tr>\n",
       "    <tr>\n",
       "      <th>739</th>\n",
       "      <td>35</td>\n",
       "      <td>0</td>\n",
       "      <td>0</td>\n",
       "      <td>FRI</td>\n",
       "      <td>Winter</td>\n",
       "      <td>179</td>\n",
       "      <td>45</td>\n",
       "      <td>14</td>\n",
       "      <td>53</td>\n",
       "      <td>271.219</td>\n",
       "      <td>...</td>\n",
       "      <td>False</td>\n",
       "      <td>High School</td>\n",
       "      <td>1</td>\n",
       "      <td>False</td>\n",
       "      <td>False</td>\n",
       "      <td>1</td>\n",
       "      <td>77</td>\n",
       "      <td>175</td>\n",
       "      <td>25</td>\n",
       "      <td>0</td>\n",
       "    </tr>\n",
       "  </tbody>\n",
       "</table>\n",
       "<p>740 rows × 21 columns</p>\n",
       "</div>"
      ],
      "text/plain": [
       "     ID Reason for absence Month of absence Day of the week Seasons  \\\n",
       "0    11               XXVI              JUL            TUES  Summer   \n",
       "1    36                  0              JUL            TUES  Summer   \n",
       "2     3              XXIII              JUL             WED  Summer   \n",
       "3     7                VII              JUL           THURS  Summer   \n",
       "4    11              XXIII              JUL           THURS  Summer   \n",
       "..   ..                ...              ...             ...     ...   \n",
       "735  11                XIV              JUL            TUES  Summer   \n",
       "736   1                 XI              JUL            TUES  Summer   \n",
       "737   4                  0                0            TUES  Summer   \n",
       "738   8                  0                0             WED  Autumn   \n",
       "739  35                  0                0             FRI  Winter   \n",
       "\n",
       "     Transportation expense  Distance from Residence to Work  Service time  \\\n",
       "0                       289                               36            13   \n",
       "1                       118                               13            18   \n",
       "2                       179                               51            18   \n",
       "3                       279                                5            14   \n",
       "4                       289                               36            13   \n",
       "..                      ...                              ...           ...   \n",
       "735                     289                               36            13   \n",
       "736                     235                               11            14   \n",
       "737                     118                               14            13   \n",
       "738                     231                               35            14   \n",
       "739                     179                               45            14   \n",
       "\n",
       "     Age  Work load Average/day   ...  Disciplinary failure    Education  \\\n",
       "0     33                 239.554  ...                 False  High School   \n",
       "1     50                 239.554  ...                  True  High School   \n",
       "2     38                 239.554  ...                 False  High School   \n",
       "3     39                 239.554  ...                 False  High School   \n",
       "4     33                 239.554  ...                 False  High School   \n",
       "..   ...                     ...  ...                   ...          ...   \n",
       "735   33                 264.604  ...                 False  High School   \n",
       "736   37                 264.604  ...                 False     Postgrad   \n",
       "737   40                 271.219  ...                 False  High School   \n",
       "738   39                 271.219  ...                 False  High School   \n",
       "739   53                 271.219  ...                 False  High School   \n",
       "\n",
       "    Children  Social drinker  Social smoker  Pet  Weight  Height  \\\n",
       "0          2            True          False    1      90     172   \n",
       "1          1            True          False    0      98     178   \n",
       "2          0            True          False    0      89     170   \n",
       "3          2            True           True    0      68     168   \n",
       "4          2            True          False    1      90     172   \n",
       "..       ...             ...            ...  ...     ...     ...   \n",
       "735        2            True          False    1      90     172   \n",
       "736        1           False          False    1      88     172   \n",
       "737        1            True          False    8      98     170   \n",
       "738        2            True          False    2     100     170   \n",
       "739        1           False          False    1      77     175   \n",
       "\n",
       "     Body mass index  Absenteeism time in hours  \n",
       "0                 30                          4  \n",
       "1                 31                          0  \n",
       "2                 31                          2  \n",
       "3                 24                          4  \n",
       "4                 30                          2  \n",
       "..               ...                        ...  \n",
       "735               30                          8  \n",
       "736               29                          4  \n",
       "737               34                          0  \n",
       "738               35                          0  \n",
       "739               25                          0  \n",
       "\n",
       "[740 rows x 21 columns]"
      ]
     },
     "execution_count": 30,
     "metadata": {},
     "output_type": "execute_result"
    }
   ],
   "source": [
    "df.toPandas()"
   ]
  },
  {
   "cell_type": "code",
   "execution_count": 25,
   "id": "bb043081",
   "metadata": {},
   "outputs": [
    {
     "name": "stdout",
     "output_type": "stream",
     "text": [
      "+----------------------+-------------------------------+------------+----------------------+--------------------+-----------+\n",
      "|Transportation expense|Distance from Residence to Work|Service time|Work load Average/day |Disciplinary failure|  Education|\n",
      "+----------------------+-------------------------------+------------+----------------------+--------------------+-----------+\n",
      "|                   289|                             36|          13|               239.554|               false|High School|\n",
      "|                   118|                             13|          18|               239.554|                true|High School|\n",
      "|                   179|                             51|          18|               239.554|               false|High School|\n",
      "|                   279|                              5|          14|               239.554|               false|High School|\n",
      "|                   289|                             36|          13|               239.554|               false|High School|\n",
      "+----------------------+-------------------------------+------------+----------------------+--------------------+-----------+\n",
      "only showing top 5 rows\n",
      "\n"
     ]
    }
   ],
   "source": [
    "from pyspark.sql.functions import col\n",
    "\n",
    "dataset = df.select(col('Transportation expense'), col('Distance from Residence to Work'), col('Service time'),\n",
    "                   col('Work load Average/day '), col('Disciplinary failure'), col('Education')\n",
    "                    )\n",
    "                                                    \n",
    "dataset.show(5)\n",
    "# https://towardsdatascience.com/your-first-apache-spark-ml-model-d2bb82b599dd"
   ]
  },
  {
   "cell_type": "code",
   "execution_count": 26,
   "id": "92d80e15",
   "metadata": {},
   "outputs": [
    {
     "name": "stdout",
     "output_type": "stream",
     "text": [
      "+----------------------+-------------------------------+------------+----------------------+--------------------+-----------+-------------------+\n",
      "|Transportation expense|Distance from Residence to Work|Service time|Work load Average/day |Disciplinary failure|  Education|Qualification Level|\n",
      "+----------------------+-------------------------------+------------+----------------------+--------------------+-----------+-------------------+\n",
      "|                   289|                             36|          13|               239.554|               false|High School|                0.0|\n",
      "|                   118|                             13|          18|               239.554|                true|High School|                0.0|\n",
      "|                   179|                             51|          18|               239.554|               false|High School|                0.0|\n",
      "|                   279|                              5|          14|               239.554|               false|High School|                0.0|\n",
      "|                   289|                             36|          13|               239.554|               false|High School|                0.0|\n",
      "|                   179|                             51|          18|               239.554|               false|High School|                0.0|\n",
      "|                   361|                             52|           3|               239.554|               false|High School|                0.0|\n",
      "|                   260|                             50|          11|               239.554|               false|High School|                0.0|\n",
      "|                   155|                             12|          14|               239.554|               false|High School|                0.0|\n",
      "|                   235|                             11|          14|               239.554|               false|   Postgrad|                1.0|\n",
      "|                   260|                             50|          11|               239.554|               false|High School|                0.0|\n",
      "|                   260|                             50|          11|               239.554|               false|High School|                0.0|\n",
      "|                   260|                             50|          11|               239.554|               false|High School|                0.0|\n",
      "|                   179|                             51|          18|               239.554|               false|High School|                0.0|\n",
      "|                   179|                             51|          18|               239.554|               false|High School|                0.0|\n",
      "|                   246|                             25|          16|               239.554|               false|High School|                0.0|\n",
      "|                   179|                             51|          18|               239.554|               false|High School|                0.0|\n",
      "|                   179|                             51|          18|               239.554|               false|High School|                0.0|\n",
      "|                   189|                             29|          13|               239.554|               false|High School|                0.0|\n",
      "|                   248|                             25|          14|               205.917|               false|High School|                0.0|\n",
      "+----------------------+-------------------------------+------------+----------------------+--------------------+-----------+-------------------+\n",
      "only showing top 20 rows\n",
      "\n"
     ]
    }
   ],
   "source": [
    "from pyspark.ml.feature import StringIndexer\n",
    "\n",
    "dataset = StringIndexer(inputCol='Education', outputCol='Qualification Level', handleInvalid='keep').fit(dataset).transform(dataset)\n",
    "\n",
    "dataset.show(20)\n",
    "\n",
    "# Can't use for Boolean "
   ]
  },
  {
   "cell_type": "code",
   "execution_count": 27,
   "id": "2b6f3255",
   "metadata": {},
   "outputs": [
    {
     "name": "stdout",
     "output_type": "stream",
     "text": [
      "+----------------------+-------------------------------+------------+----------------------+-------------------+\n",
      "|Transportation expense|Distance from Residence to Work|Service time|Work load Average/day |Qualification Level|\n",
      "+----------------------+-------------------------------+------------+----------------------+-------------------+\n",
      "|                   289|                             36|          13|               239.554|                0.0|\n",
      "|                   118|                             13|          18|               239.554|                0.0|\n",
      "|                   179|                             51|          18|               239.554|                0.0|\n",
      "|                   279|                              5|          14|               239.554|                0.0|\n",
      "|                   289|                             36|          13|               239.554|                0.0|\n",
      "|                   179|                             51|          18|               239.554|                0.0|\n",
      "|                   361|                             52|           3|               239.554|                0.0|\n",
      "|                   260|                             50|          11|               239.554|                0.0|\n",
      "|                   155|                             12|          14|               239.554|                0.0|\n",
      "|                   235|                             11|          14|               239.554|                1.0|\n",
      "|                   260|                             50|          11|               239.554|                0.0|\n",
      "|                   260|                             50|          11|               239.554|                0.0|\n",
      "|                   260|                             50|          11|               239.554|                0.0|\n",
      "|                   179|                             51|          18|               239.554|                0.0|\n",
      "|                   179|                             51|          18|               239.554|                0.0|\n",
      "|                   246|                             25|          16|               239.554|                0.0|\n",
      "|                   179|                             51|          18|               239.554|                0.0|\n",
      "|                   179|                             51|          18|               239.554|                0.0|\n",
      "|                   189|                             29|          13|               239.554|                0.0|\n",
      "|                   248|                             25|          14|               205.917|                0.0|\n",
      "+----------------------+-------------------------------+------------+----------------------+-------------------+\n",
      "only showing top 20 rows\n",
      "\n"
     ]
    }
   ],
   "source": [
    "dataset = dataset.drop('Education')\n",
    "dataset = dataset.drop('Disciplinary failure')\n",
    "dataset = dataset.drop('Qualification')\n",
    "dataset.show()"
   ]
  },
  {
   "cell_type": "code",
   "execution_count": 11,
   "id": "6fe00349",
   "metadata": {},
   "outputs": [
    {
     "name": "stdout",
     "output_type": "stream",
     "text": [
      "+-------+------------------+------------------+----------------+---------------+-------+----------------------+-------------------------------+------------------+-----------------+----------------------+-----------------+---------+------------------+------------------+------------------+------------------+------------------+-------------------------+\n",
      "|summary|ID                |Reason for absence|Month of absence|Day of the week|Seasons|Transportation expense|Distance from Residence to Work|Service time      |Age              |Work load Average/day |Hit target       |Education|Children          |Pet               |Weight            |Height            |Body mass index   |Absenteeism time in hours|\n",
      "+-------+------------------+------------------+----------------+---------------+-------+----------------------+-------------------------------+------------------+-----------------+----------------------+-----------------+---------+------------------+------------------+------------------+------------------+------------------+-------------------------+\n",
      "|count  |740               |740               |740             |740            |740    |740                   |740                            |740               |740              |740                   |740              |740      |740               |740               |740               |740               |740               |740                      |\n",
      "|mean   |18.017567567567568|0.0               |0.0             |null           |null   |221.32972972972973    |29.63108108108108              |12.554054054054054|36.45            |271.49023513513544    |94.58783783783784|null     |1.018918918918919 |0.745945945945946 |79.03513513513514 |172.11486486486487|26.677027027027027|6.924324324324324        |\n",
      "|stddev |11.021247263063657|0.0               |0.0             |null           |null   |66.95222324531973     |14.836788436739143             |4.384873407621148 |6.478772457611868|39.058116188144055    |3.779313134418015|null     |1.0984890195302817|1.3182582913258336|12.883210507177214|6.034994530267662 |4.285452223167274 |13.330998100978196       |\n",
      "|min    |1                 |0                 |0               |FRI            |Autumn |118                   |5                              |1                 |27               |205.917               |81               |Doctorate|0                 |0                 |56                |163               |19                |0                        |\n",
      "|max    |36                |XXVIII            |SEP             |WED            |Winter |388                   |52                             |29                |58               |378.884               |100              |Postgrad |4                 |8                 |108               |196               |38                |120                      |\n",
      "+-------+------------------+------------------+----------------+---------------+-------+----------------------+-------------------------------+------------------+-----------------+----------------------+-----------------+---------+------------------+------------------+------------------+------------------+------------------+-------------------------+\n",
      "\n"
     ]
    }
   ],
   "source": [
    "df_stats = df.describe().show(n=20, truncate=False)"
   ]
  },
  {
   "cell_type": "code",
   "execution_count": 1,
   "id": "d9b2db6b",
   "metadata": {},
   "outputs": [
    {
     "ename": "NameError",
     "evalue": "name 'cat_df' is not defined",
     "output_type": "error",
     "traceback": [
      "\u001b[1;31m---------------------------------------------------------------------------\u001b[0m",
      "\u001b[1;31mNameError\u001b[0m                                 Traceback (most recent call last)",
      "\u001b[1;32mC:\\Users\\SARAHW~1\\AppData\\Local\\Temp/ipykernel_18900/717135235.py\u001b[0m in \u001b[0;36m<module>\u001b[1;34m\u001b[0m\n\u001b[0;32m      1\u001b[0m \u001b[1;31m# https://www.datasciencemadesimple.com/frequency-table-or-cross-table-in-pyspark-2-way-cross-table/\u001b[0m\u001b[1;33m\u001b[0m\u001b[1;33m\u001b[0m\u001b[0m\n\u001b[1;32m----> 2\u001b[1;33m \u001b[0mcat_df\u001b[0m\u001b[1;33m.\u001b[0m\u001b[0mcrosstab\u001b[0m\u001b[1;33m(\u001b[0m\u001b[1;34m'Reason for Absence'\u001b[0m\u001b[1;33m,\u001b[0m \u001b[1;34m'Social drinker'\u001b[0m\u001b[1;33m)\u001b[0m\u001b[1;33m.\u001b[0m\u001b[0mshow\u001b[0m\u001b[1;33m(\u001b[0m\u001b[1;36m28\u001b[0m\u001b[1;33m)\u001b[0m\u001b[1;33m\u001b[0m\u001b[1;33m\u001b[0m\u001b[0m\n\u001b[0m",
      "\u001b[1;31mNameError\u001b[0m: name 'cat_df' is not defined"
     ]
    }
   ],
   "source": [
    "# https://www.datasciencemadesimple.com/frequency-table-or-cross-table-in-pyspark-2-way-cross-table/\n",
    "cat_df.crosstab('Reason for Absence', 'Social drinker').show(28)"
   ]
  },
  {
   "cell_type": "code",
   "execution_count": 13,
   "id": "c088f084",
   "metadata": {},
   "outputs": [],
   "source": [
    "from pyspark.mllib.tree import DecisionTree\n",
    "# Labeled Point Yes/No What am I trying to predict? pg.365 Jeffrey Aven book - Disciplined? \n",
    "# https://spark.apache.org/docs/3.1.1/api/python/reference/pyspark.ml.html#classification"
   ]
  },
  {
   "cell_type": "code",
   "execution_count": 21,
   "id": "09bbc268",
   "metadata": {},
   "outputs": [
    {
     "data": {
      "text/plain": [
       "0.024748899704094208"
      ]
     },
     "execution_count": 21,
     "metadata": {},
     "output_type": "execute_result"
    }
   ],
   "source": [
    "from pyspark.ml.linalg import DenseMatrix, Vectors\n",
    "from pyspark.ml.stat import Correlation\n",
    "from pyspark.ml.feature import VectorAssembler\n",
    "df.stat.corr(\"Work load Average/day \", \"Absenteeism time in hours\")\n"
   ]
  },
  {
   "cell_type": "code",
   "execution_count": 32,
   "id": "d65e9558",
   "metadata": {},
   "outputs": [
    {
     "name": "stdout",
     "output_type": "stream",
     "text": [
      "+--------------------+\n",
      "|            features|\n",
      "+--------------------+\n",
      "|[289.0,36.0,13.0,...|\n",
      "|[118.0,13.0,18.0,...|\n",
      "|[179.0,51.0,18.0,...|\n",
      "|[279.0,5.0,14.0,2...|\n",
      "|[289.0,36.0,13.0,...|\n",
      "|[179.0,51.0,18.0,...|\n",
      "|[361.0,52.0,3.0,2...|\n",
      "|[260.0,50.0,11.0,...|\n",
      "|[155.0,12.0,14.0,...|\n",
      "|[235.0,11.0,14.0,...|\n",
      "|[260.0,50.0,11.0,...|\n",
      "|[260.0,50.0,11.0,...|\n",
      "|[260.0,50.0,11.0,...|\n",
      "|[179.0,51.0,18.0,...|\n",
      "|[179.0,51.0,18.0,...|\n",
      "|[246.0,25.0,16.0,...|\n",
      "|[179.0,51.0,18.0,...|\n",
      "|[179.0,51.0,18.0,...|\n",
      "|[189.0,29.0,13.0,...|\n",
      "|[248.0,25.0,14.0,...|\n",
      "+--------------------+\n",
      "only showing top 20 rows\n",
      "\n"
     ]
    }
   ],
   "source": [
    "# https://stackoverflow.com/questions/51831874/how-to-get-correlation-matrix-values-pyspark\n",
    "assembler = VectorAssembler(inputCols=dataset.columns, outputCol=\"features\", handleInvalid='keep')\n",
    "dataframe = assembler.transform(dataset).select(\"features\")\n",
    "dataframe.show()\n",
    "\n",
    "# IllegalArgumentException: Data type string of column Reason for absence is not supported.\n",
    "# Data type string of column Month of absence is not supported.\n",
    "# Data type string of column Day of the week is not supported.\n",
    "# Data type string of column Seasons is not supported.\n",
    "# Data type string of column Education is not supported."
   ]
  },
  {
   "cell_type": "code",
   "execution_count": 38,
   "id": "c083a781",
   "metadata": {},
   "outputs": [],
   "source": [
    "correlation = Correlation.corr(dataframe,\"features\",\"pearson\").collect()[0][0]"
   ]
  },
  {
   "cell_type": "code",
   "execution_count": 39,
   "id": "d84dc391",
   "metadata": {},
   "outputs": [
    {
     "name": "stdout",
     "output_type": "stream",
     "text": [
      "DenseMatrix([[ 1.00000000e+00,  2.62183111e-01, -3.49887036e-01,\n",
      "               5.43806459e-03,  2.67537997e-02],\n",
      "             [ 2.62183111e-01,  1.00000000e+00,  1.31730304e-01,\n",
      "              -6.86769583e-02, -2.27475529e-01],\n",
      "             [-3.49887036e-01,  1.31730304e-01,  1.00000000e+00,\n",
      "              -6.68491033e-04, -2.27192662e-01],\n",
      "             [ 5.43806459e-03, -6.86769583e-02, -6.68491033e-04,\n",
      "               1.00000000e+00, -4.53296368e-02],\n",
      "             [ 2.67537997e-02, -2.27475529e-01, -2.27192662e-01,\n",
      "              -4.53296368e-02,  1.00000000e+00]])\n"
     ]
    }
   ],
   "source": []
  },
  {
   "cell_type": "code",
   "execution_count": 46,
   "id": "9f9e319d",
   "metadata": {},
   "outputs": [
    {
     "name": "stdout",
     "output_type": "stream",
     "text": [
      "[[1.0, 0.2621831106319073, -0.3498870361913601, 0.0054380645902345455, 0.02675379970541189], [0.2621831106319073, 1.0, 0.13173030369957126, -0.06867695829634854, -0.22747552850788208], [-0.3498870361913601, 0.13173030369957126, 1.0, -0.0006684910327938819, -0.22719266168427438], [0.0054380645902345455, -0.06867695829634854, -0.0006684910327938819, 1.0, -0.04532963677669844], [0.02675379970541189, -0.22747552850788208, -0.22719266168427438, -0.04532963677669844, 1.0]]\n",
      "DataFrame[Transportation expense: double, Distance from Residence to Work: double, Service time: double, Work load Average/day : double, Qualification Level: double]\n"
     ]
    }
   ],
   "source": [
    "rows = correlation.toArray().tolist()\n",
    "print(str(rows))\n",
    "correlationdf = spark.createDataFrame(rows, dataset.columns)\n",
    "print(str(correlationdf))"
   ]
  },
  {
   "cell_type": "code",
   "execution_count": 51,
   "id": "831a273e",
   "metadata": {},
   "outputs": [
    {
     "ename": "ValueError",
     "evalue": "setting an array element with a sequence.",
     "output_type": "error",
     "traceback": [
      "\u001b[1;31m---------------------------------------------------------------------------\u001b[0m",
      "\u001b[1;31mTypeError\u001b[0m                                 Traceback (most recent call last)",
      "\u001b[1;31mTypeError\u001b[0m: float() argument must be a string or a number, not 'DataFrame'",
      "\nThe above exception was the direct cause of the following exception:\n",
      "\u001b[1;31mValueError\u001b[0m                                Traceback (most recent call last)",
      "\u001b[1;32mC:\\Users\\SARAHW~1\\AppData\\Local\\Temp/ipykernel_3852/2408222162.py\u001b[0m in \u001b[0;36m<module>\u001b[1;34m\u001b[0m\n\u001b[0;32m      6\u001b[0m \u001b[0mabsence_norm\u001b[0m \u001b[1;33m=\u001b[0m \u001b[0mdataset\u001b[0m\u001b[1;33m\u001b[0m\u001b[1;33m\u001b[0m\u001b[0m\n\u001b[0;32m      7\u001b[0m \u001b[0mscaler\u001b[0m \u001b[1;33m=\u001b[0m \u001b[0mpreprocessing\u001b[0m\u001b[1;33m.\u001b[0m\u001b[0mMinMaxScaler\u001b[0m\u001b[1;33m(\u001b[0m\u001b[1;33m)\u001b[0m\u001b[1;33m\u001b[0m\u001b[1;33m\u001b[0m\u001b[0m\n\u001b[1;32m----> 8\u001b[1;33m \u001b[0mabsence_norm\u001b[0m\u001b[1;33m[\u001b[0m\u001b[1;33m[\u001b[0m\u001b[1;34m\"Work load Average/day \"\u001b[0m\u001b[1;33m,\u001b[0m \u001b[1;34m\"Transportation expense\"\u001b[0m\u001b[1;33m]\u001b[0m\u001b[1;33m]\u001b[0m \u001b[1;33m=\u001b[0m \u001b[0mscaler\u001b[0m\u001b[1;33m.\u001b[0m\u001b[0mfit_transform\u001b[0m\u001b[1;33m(\u001b[0m\u001b[0mabsence_norm\u001b[0m\u001b[1;33m[\u001b[0m\u001b[1;33m[\u001b[0m\u001b[1;34m\"Work load Average/day \"\u001b[0m\u001b[1;33m,\u001b[0m \u001b[1;34m\"Transportation expense\"\u001b[0m\u001b[1;33m]\u001b[0m\u001b[1;33m]\u001b[0m\u001b[1;33m)\u001b[0m\u001b[1;33m\u001b[0m\u001b[1;33m\u001b[0m\u001b[0m\n\u001b[0m",
      "\u001b[1;32m~\\anaconda3\\lib\\site-packages\\sklearn\\base.py\u001b[0m in \u001b[0;36mfit_transform\u001b[1;34m(self, X, y, **fit_params)\u001b[0m\n\u001b[0;32m    697\u001b[0m         \u001b[1;32mif\u001b[0m \u001b[0my\u001b[0m \u001b[1;32mis\u001b[0m \u001b[1;32mNone\u001b[0m\u001b[1;33m:\u001b[0m\u001b[1;33m\u001b[0m\u001b[1;33m\u001b[0m\u001b[0m\n\u001b[0;32m    698\u001b[0m             \u001b[1;31m# fit method of arity 1 (unsupervised transformation)\u001b[0m\u001b[1;33m\u001b[0m\u001b[1;33m\u001b[0m\u001b[0m\n\u001b[1;32m--> 699\u001b[1;33m             \u001b[1;32mreturn\u001b[0m \u001b[0mself\u001b[0m\u001b[1;33m.\u001b[0m\u001b[0mfit\u001b[0m\u001b[1;33m(\u001b[0m\u001b[0mX\u001b[0m\u001b[1;33m,\u001b[0m \u001b[1;33m**\u001b[0m\u001b[0mfit_params\u001b[0m\u001b[1;33m)\u001b[0m\u001b[1;33m.\u001b[0m\u001b[0mtransform\u001b[0m\u001b[1;33m(\u001b[0m\u001b[0mX\u001b[0m\u001b[1;33m)\u001b[0m\u001b[1;33m\u001b[0m\u001b[1;33m\u001b[0m\u001b[0m\n\u001b[0m\u001b[0;32m    700\u001b[0m         \u001b[1;32melse\u001b[0m\u001b[1;33m:\u001b[0m\u001b[1;33m\u001b[0m\u001b[1;33m\u001b[0m\u001b[0m\n\u001b[0;32m    701\u001b[0m             \u001b[1;31m# fit method of arity 2 (supervised transformation)\u001b[0m\u001b[1;33m\u001b[0m\u001b[1;33m\u001b[0m\u001b[0m\n",
      "\u001b[1;32m~\\anaconda3\\lib\\site-packages\\sklearn\\preprocessing\\_data.py\u001b[0m in \u001b[0;36mfit\u001b[1;34m(self, X, y)\u001b[0m\n\u001b[0;32m    361\u001b[0m         \u001b[1;31m# Reset internal state before fitting\u001b[0m\u001b[1;33m\u001b[0m\u001b[1;33m\u001b[0m\u001b[0m\n\u001b[0;32m    362\u001b[0m         \u001b[0mself\u001b[0m\u001b[1;33m.\u001b[0m\u001b[0m_reset\u001b[0m\u001b[1;33m(\u001b[0m\u001b[1;33m)\u001b[0m\u001b[1;33m\u001b[0m\u001b[1;33m\u001b[0m\u001b[0m\n\u001b[1;32m--> 363\u001b[1;33m         \u001b[1;32mreturn\u001b[0m \u001b[0mself\u001b[0m\u001b[1;33m.\u001b[0m\u001b[0mpartial_fit\u001b[0m\u001b[1;33m(\u001b[0m\u001b[0mX\u001b[0m\u001b[1;33m,\u001b[0m \u001b[0my\u001b[0m\u001b[1;33m)\u001b[0m\u001b[1;33m\u001b[0m\u001b[1;33m\u001b[0m\u001b[0m\n\u001b[0m\u001b[0;32m    364\u001b[0m \u001b[1;33m\u001b[0m\u001b[0m\n\u001b[0;32m    365\u001b[0m     \u001b[1;32mdef\u001b[0m \u001b[0mpartial_fit\u001b[0m\u001b[1;33m(\u001b[0m\u001b[0mself\u001b[0m\u001b[1;33m,\u001b[0m \u001b[0mX\u001b[0m\u001b[1;33m,\u001b[0m \u001b[0my\u001b[0m\u001b[1;33m=\u001b[0m\u001b[1;32mNone\u001b[0m\u001b[1;33m)\u001b[0m\u001b[1;33m:\u001b[0m\u001b[1;33m\u001b[0m\u001b[1;33m\u001b[0m\u001b[0m\n",
      "\u001b[1;32m~\\anaconda3\\lib\\site-packages\\sklearn\\preprocessing\\_data.py\u001b[0m in \u001b[0;36mpartial_fit\u001b[1;34m(self, X, y)\u001b[0m\n\u001b[0;32m    394\u001b[0m \u001b[1;33m\u001b[0m\u001b[0m\n\u001b[0;32m    395\u001b[0m         \u001b[0mfirst_pass\u001b[0m \u001b[1;33m=\u001b[0m \u001b[1;32mnot\u001b[0m \u001b[0mhasattr\u001b[0m\u001b[1;33m(\u001b[0m\u001b[0mself\u001b[0m\u001b[1;33m,\u001b[0m \u001b[1;34m'n_samples_seen_'\u001b[0m\u001b[1;33m)\u001b[0m\u001b[1;33m\u001b[0m\u001b[1;33m\u001b[0m\u001b[0m\n\u001b[1;32m--> 396\u001b[1;33m         X = self._validate_data(X, reset=first_pass,\n\u001b[0m\u001b[0;32m    397\u001b[0m                                 \u001b[0mestimator\u001b[0m\u001b[1;33m=\u001b[0m\u001b[0mself\u001b[0m\u001b[1;33m,\u001b[0m \u001b[0mdtype\u001b[0m\u001b[1;33m=\u001b[0m\u001b[0mFLOAT_DTYPES\u001b[0m\u001b[1;33m,\u001b[0m\u001b[1;33m\u001b[0m\u001b[1;33m\u001b[0m\u001b[0m\n\u001b[0;32m    398\u001b[0m                                 force_all_finite=\"allow-nan\")\n",
      "\u001b[1;32m~\\anaconda3\\lib\\site-packages\\sklearn\\base.py\u001b[0m in \u001b[0;36m_validate_data\u001b[1;34m(self, X, y, reset, validate_separately, **check_params)\u001b[0m\n\u001b[0;32m    419\u001b[0m             \u001b[0mout\u001b[0m \u001b[1;33m=\u001b[0m \u001b[0mX\u001b[0m\u001b[1;33m\u001b[0m\u001b[1;33m\u001b[0m\u001b[0m\n\u001b[0;32m    420\u001b[0m         \u001b[1;32melif\u001b[0m \u001b[0misinstance\u001b[0m\u001b[1;33m(\u001b[0m\u001b[0my\u001b[0m\u001b[1;33m,\u001b[0m \u001b[0mstr\u001b[0m\u001b[1;33m)\u001b[0m \u001b[1;32mand\u001b[0m \u001b[0my\u001b[0m \u001b[1;33m==\u001b[0m \u001b[1;34m'no_validation'\u001b[0m\u001b[1;33m:\u001b[0m\u001b[1;33m\u001b[0m\u001b[1;33m\u001b[0m\u001b[0m\n\u001b[1;32m--> 421\u001b[1;33m             \u001b[0mX\u001b[0m \u001b[1;33m=\u001b[0m \u001b[0mcheck_array\u001b[0m\u001b[1;33m(\u001b[0m\u001b[0mX\u001b[0m\u001b[1;33m,\u001b[0m \u001b[1;33m**\u001b[0m\u001b[0mcheck_params\u001b[0m\u001b[1;33m)\u001b[0m\u001b[1;33m\u001b[0m\u001b[1;33m\u001b[0m\u001b[0m\n\u001b[0m\u001b[0;32m    422\u001b[0m             \u001b[0mout\u001b[0m \u001b[1;33m=\u001b[0m \u001b[0mX\u001b[0m\u001b[1;33m\u001b[0m\u001b[1;33m\u001b[0m\u001b[0m\n\u001b[0;32m    423\u001b[0m         \u001b[1;32melse\u001b[0m\u001b[1;33m:\u001b[0m\u001b[1;33m\u001b[0m\u001b[1;33m\u001b[0m\u001b[0m\n",
      "\u001b[1;32m~\\anaconda3\\lib\\site-packages\\sklearn\\utils\\validation.py\u001b[0m in \u001b[0;36minner_f\u001b[1;34m(*args, **kwargs)\u001b[0m\n\u001b[0;32m     61\u001b[0m             \u001b[0mextra_args\u001b[0m \u001b[1;33m=\u001b[0m \u001b[0mlen\u001b[0m\u001b[1;33m(\u001b[0m\u001b[0margs\u001b[0m\u001b[1;33m)\u001b[0m \u001b[1;33m-\u001b[0m \u001b[0mlen\u001b[0m\u001b[1;33m(\u001b[0m\u001b[0mall_args\u001b[0m\u001b[1;33m)\u001b[0m\u001b[1;33m\u001b[0m\u001b[1;33m\u001b[0m\u001b[0m\n\u001b[0;32m     62\u001b[0m             \u001b[1;32mif\u001b[0m \u001b[0mextra_args\u001b[0m \u001b[1;33m<=\u001b[0m \u001b[1;36m0\u001b[0m\u001b[1;33m:\u001b[0m\u001b[1;33m\u001b[0m\u001b[1;33m\u001b[0m\u001b[0m\n\u001b[1;32m---> 63\u001b[1;33m                 \u001b[1;32mreturn\u001b[0m \u001b[0mf\u001b[0m\u001b[1;33m(\u001b[0m\u001b[1;33m*\u001b[0m\u001b[0margs\u001b[0m\u001b[1;33m,\u001b[0m \u001b[1;33m**\u001b[0m\u001b[0mkwargs\u001b[0m\u001b[1;33m)\u001b[0m\u001b[1;33m\u001b[0m\u001b[1;33m\u001b[0m\u001b[0m\n\u001b[0m\u001b[0;32m     64\u001b[0m \u001b[1;33m\u001b[0m\u001b[0m\n\u001b[0;32m     65\u001b[0m             \u001b[1;31m# extra_args > 0\u001b[0m\u001b[1;33m\u001b[0m\u001b[1;33m\u001b[0m\u001b[0m\n",
      "\u001b[1;32m~\\anaconda3\\lib\\site-packages\\sklearn\\utils\\validation.py\u001b[0m in \u001b[0;36mcheck_array\u001b[1;34m(array, accept_sparse, accept_large_sparse, dtype, order, copy, force_all_finite, ensure_2d, allow_nd, ensure_min_samples, ensure_min_features, estimator)\u001b[0m\n\u001b[0;32m    671\u001b[0m                     \u001b[0marray\u001b[0m \u001b[1;33m=\u001b[0m \u001b[0marray\u001b[0m\u001b[1;33m.\u001b[0m\u001b[0mastype\u001b[0m\u001b[1;33m(\u001b[0m\u001b[0mdtype\u001b[0m\u001b[1;33m,\u001b[0m \u001b[0mcasting\u001b[0m\u001b[1;33m=\u001b[0m\u001b[1;34m\"unsafe\"\u001b[0m\u001b[1;33m,\u001b[0m \u001b[0mcopy\u001b[0m\u001b[1;33m=\u001b[0m\u001b[1;32mFalse\u001b[0m\u001b[1;33m)\u001b[0m\u001b[1;33m\u001b[0m\u001b[1;33m\u001b[0m\u001b[0m\n\u001b[0;32m    672\u001b[0m                 \u001b[1;32melse\u001b[0m\u001b[1;33m:\u001b[0m\u001b[1;33m\u001b[0m\u001b[1;33m\u001b[0m\u001b[0m\n\u001b[1;32m--> 673\u001b[1;33m                     \u001b[0marray\u001b[0m \u001b[1;33m=\u001b[0m \u001b[0mnp\u001b[0m\u001b[1;33m.\u001b[0m\u001b[0masarray\u001b[0m\u001b[1;33m(\u001b[0m\u001b[0marray\u001b[0m\u001b[1;33m,\u001b[0m \u001b[0morder\u001b[0m\u001b[1;33m=\u001b[0m\u001b[0morder\u001b[0m\u001b[1;33m,\u001b[0m \u001b[0mdtype\u001b[0m\u001b[1;33m=\u001b[0m\u001b[0mdtype\u001b[0m\u001b[1;33m)\u001b[0m\u001b[1;33m\u001b[0m\u001b[1;33m\u001b[0m\u001b[0m\n\u001b[0m\u001b[0;32m    674\u001b[0m             \u001b[1;32mexcept\u001b[0m \u001b[0mComplexWarning\u001b[0m \u001b[1;32mas\u001b[0m \u001b[0mcomplex_warning\u001b[0m\u001b[1;33m:\u001b[0m\u001b[1;33m\u001b[0m\u001b[1;33m\u001b[0m\u001b[0m\n\u001b[0;32m    675\u001b[0m                 raise ValueError(\"Complex data not supported\\n\"\n",
      "\u001b[1;32m~\\anaconda3\\lib\\site-packages\\numpy\\core\\_asarray.py\u001b[0m in \u001b[0;36masarray\u001b[1;34m(a, dtype, order, like)\u001b[0m\n\u001b[0;32m    100\u001b[0m         \u001b[1;32mreturn\u001b[0m \u001b[0m_asarray_with_like\u001b[0m\u001b[1;33m(\u001b[0m\u001b[0ma\u001b[0m\u001b[1;33m,\u001b[0m \u001b[0mdtype\u001b[0m\u001b[1;33m=\u001b[0m\u001b[0mdtype\u001b[0m\u001b[1;33m,\u001b[0m \u001b[0morder\u001b[0m\u001b[1;33m=\u001b[0m\u001b[0morder\u001b[0m\u001b[1;33m,\u001b[0m \u001b[0mlike\u001b[0m\u001b[1;33m=\u001b[0m\u001b[0mlike\u001b[0m\u001b[1;33m)\u001b[0m\u001b[1;33m\u001b[0m\u001b[1;33m\u001b[0m\u001b[0m\n\u001b[0;32m    101\u001b[0m \u001b[1;33m\u001b[0m\u001b[0m\n\u001b[1;32m--> 102\u001b[1;33m     \u001b[1;32mreturn\u001b[0m \u001b[0marray\u001b[0m\u001b[1;33m(\u001b[0m\u001b[0ma\u001b[0m\u001b[1;33m,\u001b[0m \u001b[0mdtype\u001b[0m\u001b[1;33m,\u001b[0m \u001b[0mcopy\u001b[0m\u001b[1;33m=\u001b[0m\u001b[1;32mFalse\u001b[0m\u001b[1;33m,\u001b[0m \u001b[0morder\u001b[0m\u001b[1;33m=\u001b[0m\u001b[0morder\u001b[0m\u001b[1;33m)\u001b[0m\u001b[1;33m\u001b[0m\u001b[1;33m\u001b[0m\u001b[0m\n\u001b[0m\u001b[0;32m    103\u001b[0m \u001b[1;33m\u001b[0m\u001b[0m\n\u001b[0;32m    104\u001b[0m \u001b[1;33m\u001b[0m\u001b[0m\n",
      "\u001b[1;31mValueError\u001b[0m: setting an array element with a sequence."
     ]
    }
   ],
   "source": [
    "# https://medium.com/analytics-vidhya/clustering-on-mixed-data-types-in-python-7c22b3898086\n",
    "\n",
    "# Normalise / Scale continuous data \n",
    "import pandas as pd\n",
    "from sklearn import preprocessing\n",
    "absence_norm = dataset\n",
    "scaler = preprocessing.MinMaxScaler()\n",
    "absence_norm[[\"Work load Average/day \", \"Transportation expense\"]] = scaler.fit_transform(absence_norm[[\"Work load Average/day \", \"Transportation expense\"]])"
   ]
  },
  {
   "cell_type": "code",
   "execution_count": null,
   "id": "57c1362c",
   "metadata": {},
   "outputs": [],
   "source": [
    "from kmodes.kprototypes import KPrototypes\n",
    "kproto = KPrototypes(n_clusters=3, init='Cao')\n",
    "clusters = kproto.fit_predict(df, categorical=[]) # Give categorical \n",
    "\n",
    "# KMeans with One Hot Encoding \n",
    "# Join data with labels \n",
    "labels = pd.DataFrame(clusters)\n",
    "labeledCustomers = pd.concat((customers,labels),axis=1)\n",
    "labeledCustomers = labeledCustomers.rename({0:'labels'},axis=1)"
   ]
  },
  {
   "cell_type": "code",
   "execution_count": null,
   "id": "89d0598d",
   "metadata": {},
   "outputs": [],
   "source": [
    "# Visualise clusters with PCA\n",
    "# https://www.data4v.com/tutorial-k-means-clustering-on-spark/\n",
    "pca = PCA(k=2, inputCol='scaledFeatures', outputCol='PCAFeatures')\n",
    "model = pca.fit(scaled_features)\n",
    "result = model.transform(scaled_features).select('PCAFeatures')\n",
    "result.show(740, truncate=False)"
   ]
  },
  {
   "cell_type": "code",
   "execution_count": null,
   "id": "6ee9e7bd",
   "metadata": {},
   "outputs": [],
   "source": [
    "# Simple Classification Model \n",
    "# https://spark.apache.org/docs/2.1.0/ml-classification-regression.html#random-forest-classifier\n",
    "# https://towardsdatascience.com/a-guide-to-exploit-random-forest-classifier-in-pyspark-46d6999cb5db\n",
    "# Cast Boolean social drinker to numeric\n",
    "model_df = new_df.select(col('Social drinker').cast('float'), \n",
    "                        col('Reason Encode'),\n",
    "                        col('Absenteeism time in hours'),\n",
    "                        col('Season Encode'),\n",
    "                        col('Education Encode'),\n",
    "                        col('Day_Encode')\n",
    "                        )\n",
    "model_df.show()"
   ]
  }
 ],
 "metadata": {
  "kernelspec": {
   "display_name": "Python 3 (ipykernel)",
   "language": "python",
   "name": "python3"
  },
  "language_info": {
   "codemirror_mode": {
    "name": "ipython",
    "version": 3
   },
   "file_extension": ".py",
   "mimetype": "text/x-python",
   "name": "python",
   "nbconvert_exporter": "python",
   "pygments_lexer": "ipython3",
   "version": "3.9.7"
  }
 },
 "nbformat": 4,
 "nbformat_minor": 5
}
