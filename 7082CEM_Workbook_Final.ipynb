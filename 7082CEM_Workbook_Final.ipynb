{
 "cells": [
  {
   "cell_type": "code",
   "execution_count": 3,
   "id": "a5d4fa00",
   "metadata": {},
   "outputs": [
    {
     "name": "stdout",
     "output_type": "stream",
     "text": [
      "root\n",
      " |-- ID: integer (nullable = true)\n",
      " |-- Reason for absence: string (nullable = true)\n",
      " |-- Month of absence: string (nullable = true)\n",
      " |-- Day of the week: string (nullable = true)\n",
      " |-- Seasons: string (nullable = true)\n",
      " |-- Transportation expense: integer (nullable = true)\n",
      " |-- Distance from Residence to Work: integer (nullable = true)\n",
      " |-- Service time: integer (nullable = true)\n",
      " |-- Age: integer (nullable = true)\n",
      " |-- Work load Average/day : double (nullable = true)\n",
      " |-- Hit target: integer (nullable = true)\n",
      " |-- Disciplinary failure: boolean (nullable = true)\n",
      " |-- Education: string (nullable = true)\n",
      " |-- Children: integer (nullable = true)\n",
      " |-- Social drinker: boolean (nullable = true)\n",
      " |-- Social smoker: boolean (nullable = true)\n",
      " |-- Pet: integer (nullable = true)\n",
      " |-- Weight: integer (nullable = true)\n",
      " |-- Height: integer (nullable = true)\n",
      " |-- Body mass index: integer (nullable = true)\n",
      " |-- Absenteeism time in hours: integer (nullable = true)\n",
      "\n"
     ]
    }
   ],
   "source": [
    "import pyspark\n",
    "from pyspark.sql import SparkSession\n",
    "spark = SparkSession.builder.getOrCreate()\n",
    "df = spark.read.csv(\"Absenteeism_at_work.csv\", header=True, inferSchema=True)\n",
    "df.printSchema()"
   ]
  },
  {
   "cell_type": "code",
   "execution_count": 5,
   "id": "76d96292",
   "metadata": {
    "slideshow": {
     "slide_type": "-"
    }
   },
   "outputs": [
    {
     "data": {
      "text/plain": [
       "740"
      ]
     },
     "execution_count": 5,
     "metadata": {},
     "output_type": "execute_result"
    }
   ],
   "source": [
    "df.count()"
   ]
  },
  {
   "cell_type": "code",
   "execution_count": 6,
   "id": "b9a57bb6",
   "metadata": {},
   "outputs": [
    {
     "data": {
      "text/plain": [
       "740"
      ]
     },
     "execution_count": 6,
     "metadata": {},
     "output_type": "execute_result"
    }
   ],
   "source": [
    "df.na.drop().count()"
   ]
  },
  {
   "cell_type": "code",
   "execution_count": 12,
   "id": "89b3fb2e",
   "metadata": {},
   "outputs": [
    {
     "name": "stdout",
     "output_type": "stream",
     "text": [
      "+------------------+---------------+-------+--------------------+-----------+--------------+-------------+\n",
      "|Reason for Absence|Day of the week|Seasons|Disciplinary failure|  Education|Social drinker|Social smoker|\n",
      "+------------------+---------------+-------+--------------------+-----------+--------------+-------------+\n",
      "|              XXVI|           TUES| Summer|               false|High School|          true|        false|\n",
      "|                 0|           TUES| Summer|                true|High School|          true|        false|\n",
      "|             XXIII|            WED| Summer|               false|High School|          true|        false|\n",
      "|               VII|          THURS| Summer|               false|High School|          true|         true|\n",
      "|             XXIII|          THURS| Summer|               false|High School|          true|        false|\n",
      "|             XXIII|            FRI| Summer|               false|High School|          true|        false|\n",
      "|              XXII|            FRI| Summer|               false|High School|          true|        false|\n",
      "|             XXIII|            FRI| Summer|               false|High School|          true|        false|\n",
      "|               XIX|            MON| Summer|               false|High School|          true|        false|\n",
      "|              XXII|            MON| Summer|               false|   Postgrad|         false|        false|\n",
      "|                 I|            MON| Summer|               false|High School|          true|        false|\n",
      "|                 I|           TUES| Summer|               false|High School|          true|        false|\n",
      "|                XI|            WED| Summer|               false|High School|          true|        false|\n",
      "|                XI|            WED| Summer|               false|High School|          true|        false|\n",
      "|             XXIII|            WED| Summer|               false|High School|          true|        false|\n",
      "|               XIV|            FRI| Summer|               false|High School|          true|        false|\n",
      "|             XXIII|            FRI| Summer|               false|High School|          true|        false|\n",
      "|               XXI|            MON| Summer|               false|High School|          true|        false|\n",
      "|                XI|          THURS| Summer|               false|High School|         false|        false|\n",
      "|             XXIII|            WED| Summer|               false|High School|         false|        false|\n",
      "+------------------+---------------+-------+--------------------+-----------+--------------+-------------+\n",
      "only showing top 20 rows\n",
      "\n"
     ]
    }
   ],
   "source": [
    "from pyspark.sql.functions import col\n",
    "cat_df = df.select(col('Reason for Absence'), \n",
    "                   col('Day of the week'),\n",
    "                   col('Seasons'),\n",
    "                   col('Disciplinary failure'),\n",
    "                   col('Education'),\n",
    "                   col('Social drinker'),\n",
    "                   col('Social smoker')\n",
    "                  )\n",
    "cat_df.show()"
   ]
  },
  {
   "cell_type": "code",
   "execution_count": 13,
   "id": "832f78e0",
   "metadata": {},
   "outputs": [
    {
     "data": {
      "text/html": [
       "<div>\n",
       "<style scoped>\n",
       "    .dataframe tbody tr th:only-of-type {\n",
       "        vertical-align: middle;\n",
       "    }\n",
       "\n",
       "    .dataframe tbody tr th {\n",
       "        vertical-align: top;\n",
       "    }\n",
       "\n",
       "    .dataframe thead th {\n",
       "        text-align: right;\n",
       "    }\n",
       "</style>\n",
       "<table border=\"1\" class=\"dataframe\">\n",
       "  <thead>\n",
       "    <tr style=\"text-align: right;\">\n",
       "      <th></th>\n",
       "      <th>summary</th>\n",
       "      <th>Reason for Absence</th>\n",
       "      <th>Day of the week</th>\n",
       "      <th>Seasons</th>\n",
       "      <th>Education</th>\n",
       "    </tr>\n",
       "  </thead>\n",
       "  <tbody>\n",
       "    <tr>\n",
       "      <th>0</th>\n",
       "      <td>count</td>\n",
       "      <td>740</td>\n",
       "      <td>740</td>\n",
       "      <td>740</td>\n",
       "      <td>740</td>\n",
       "    </tr>\n",
       "    <tr>\n",
       "      <th>1</th>\n",
       "      <td>mean</td>\n",
       "      <td>0.0</td>\n",
       "      <td>None</td>\n",
       "      <td>None</td>\n",
       "      <td>None</td>\n",
       "    </tr>\n",
       "    <tr>\n",
       "      <th>2</th>\n",
       "      <td>stddev</td>\n",
       "      <td>0.0</td>\n",
       "      <td>None</td>\n",
       "      <td>None</td>\n",
       "      <td>None</td>\n",
       "    </tr>\n",
       "    <tr>\n",
       "      <th>3</th>\n",
       "      <td>min</td>\n",
       "      <td>0</td>\n",
       "      <td>FRI</td>\n",
       "      <td>Autumn</td>\n",
       "      <td>Doctorate</td>\n",
       "    </tr>\n",
       "    <tr>\n",
       "      <th>4</th>\n",
       "      <td>max</td>\n",
       "      <td>XXVIII</td>\n",
       "      <td>WED</td>\n",
       "      <td>Winter</td>\n",
       "      <td>Postgrad</td>\n",
       "    </tr>\n",
       "  </tbody>\n",
       "</table>\n",
       "</div>"
      ],
      "text/plain": [
       "  summary Reason for Absence Day of the week Seasons  Education\n",
       "0   count                740             740     740        740\n",
       "1    mean                0.0            None    None       None\n",
       "2  stddev                0.0            None    None       None\n",
       "3     min                  0             FRI  Autumn  Doctorate\n",
       "4     max             XXVIII             WED  Winter   Postgrad"
      ]
     },
     "execution_count": 13,
     "metadata": {},
     "output_type": "execute_result"
    }
   ],
   "source": [
    "cat_df.describe().toPandas()"
   ]
  },
  {
   "cell_type": "code",
   "execution_count": 8,
   "id": "89638523",
   "metadata": {},
   "outputs": [
    {
     "name": "stdout",
     "output_type": "stream",
     "text": [
      "+----------------------+-------------------------------+------------+---+----------------------+----------+--------+---+------+------+---------------+-------------------------+\n",
      "|Transportation expense|Distance from Residence to Work|Service Time|Age|Work load Average/Day |Hit target|Children|Pet|Weight|Height|Body Mass Index|Absenteeism time in hours|\n",
      "+----------------------+-------------------------------+------------+---+----------------------+----------+--------+---+------+------+---------------+-------------------------+\n",
      "|                   289|                             36|          13| 33|               239.554|        97|       2|  1|    90|   172|             30|                        4|\n",
      "|                   118|                             13|          18| 50|               239.554|        97|       1|  0|    98|   178|             31|                        0|\n",
      "|                   179|                             51|          18| 38|               239.554|        97|       0|  0|    89|   170|             31|                        2|\n",
      "|                   279|                              5|          14| 39|               239.554|        97|       2|  0|    68|   168|             24|                        4|\n",
      "|                   289|                             36|          13| 33|               239.554|        97|       2|  1|    90|   172|             30|                        2|\n",
      "|                   179|                             51|          18| 38|               239.554|        97|       0|  0|    89|   170|             31|                        2|\n",
      "|                   361|                             52|           3| 28|               239.554|        97|       1|  4|    80|   172|             27|                        8|\n",
      "|                   260|                             50|          11| 36|               239.554|        97|       4|  0|    65|   168|             23|                        4|\n",
      "|                   155|                             12|          14| 34|               239.554|        97|       2|  0|    95|   196|             25|                       40|\n",
      "|                   235|                             11|          14| 37|               239.554|        97|       1|  1|    88|   172|             29|                        8|\n",
      "|                   260|                             50|          11| 36|               239.554|        97|       4|  0|    65|   168|             23|                        8|\n",
      "|                   260|                             50|          11| 36|               239.554|        97|       4|  0|    65|   168|             23|                        8|\n",
      "|                   260|                             50|          11| 36|               239.554|        97|       4|  0|    65|   168|             23|                        8|\n",
      "|                   179|                             51|          18| 38|               239.554|        97|       0|  0|    89|   170|             31|                        1|\n",
      "|                   179|                             51|          18| 38|               239.554|        97|       0|  0|    89|   170|             31|                        4|\n",
      "|                   246|                             25|          16| 41|               239.554|        97|       0|  0|    67|   170|             23|                        8|\n",
      "|                   179|                             51|          18| 38|               239.554|        97|       0|  0|    89|   170|             31|                        2|\n",
      "|                   179|                             51|          18| 38|               239.554|        97|       0|  0|    89|   170|             31|                        8|\n",
      "|                   189|                             29|          13| 33|               239.554|        97|       2|  2|    69|   167|             25|                        8|\n",
      "|                   248|                             25|          14| 47|               205.917|        92|       2|  1|    86|   165|             32|                        2|\n",
      "+----------------------+-------------------------------+------------+---+----------------------+----------+--------+---+------+------+---------------+-------------------------+\n",
      "only showing top 20 rows\n",
      "\n"
     ]
    }
   ],
   "source": [
    "num_df = df.select(col('Transportation expense'),\n",
    "                  col('Distance from Residence to Work'),\n",
    "                  col('Service Time'),\n",
    "                  col('Age'),\n",
    "                  col('Work load Average/Day '),\n",
    "                  col('Hit target'),\n",
    "                  col('Children'),\n",
    "                  col('Pet'),\n",
    "                  col('Weight'),\n",
    "                  col('Height'),\n",
    "                  col('Body Mass Index'),\n",
    "                  col('Absenteeism time in hours')\n",
    "                  )\n",
    "num_df.show()"
   ]
  },
  {
   "cell_type": "code",
   "execution_count": 10,
   "id": "ad583cf1",
   "metadata": {
    "scrolled": true
   },
   "outputs": [
    {
     "data": {
      "text/html": [
       "<div>\n",
       "<style scoped>\n",
       "    .dataframe tbody tr th:only-of-type {\n",
       "        vertical-align: middle;\n",
       "    }\n",
       "\n",
       "    .dataframe tbody tr th {\n",
       "        vertical-align: top;\n",
       "    }\n",
       "\n",
       "    .dataframe thead th {\n",
       "        text-align: right;\n",
       "    }\n",
       "</style>\n",
       "<table border=\"1\" class=\"dataframe\">\n",
       "  <thead>\n",
       "    <tr style=\"text-align: right;\">\n",
       "      <th></th>\n",
       "      <th>summary</th>\n",
       "      <th>Transportation expense</th>\n",
       "      <th>Distance from Residence to Work</th>\n",
       "      <th>Service Time</th>\n",
       "      <th>Age</th>\n",
       "      <th>Work load Average/Day</th>\n",
       "      <th>Hit target</th>\n",
       "      <th>Children</th>\n",
       "      <th>Pet</th>\n",
       "      <th>Weight</th>\n",
       "      <th>Height</th>\n",
       "      <th>Body Mass Index</th>\n",
       "      <th>Absenteeism time in hours</th>\n",
       "    </tr>\n",
       "  </thead>\n",
       "  <tbody>\n",
       "    <tr>\n",
       "      <th>0</th>\n",
       "      <td>count</td>\n",
       "      <td>740</td>\n",
       "      <td>740</td>\n",
       "      <td>740</td>\n",
       "      <td>740</td>\n",
       "      <td>740</td>\n",
       "      <td>740</td>\n",
       "      <td>740</td>\n",
       "      <td>740</td>\n",
       "      <td>740</td>\n",
       "      <td>740</td>\n",
       "      <td>740</td>\n",
       "      <td>740</td>\n",
       "    </tr>\n",
       "    <tr>\n",
       "      <th>1</th>\n",
       "      <td>mean</td>\n",
       "      <td>221.32972972972973</td>\n",
       "      <td>29.63108108108108</td>\n",
       "      <td>12.554054054054054</td>\n",
       "      <td>36.45</td>\n",
       "      <td>271.49023513513544</td>\n",
       "      <td>94.58783783783784</td>\n",
       "      <td>1.018918918918919</td>\n",
       "      <td>0.745945945945946</td>\n",
       "      <td>79.03513513513514</td>\n",
       "      <td>172.11486486486487</td>\n",
       "      <td>26.677027027027027</td>\n",
       "      <td>6.924324324324324</td>\n",
       "    </tr>\n",
       "    <tr>\n",
       "      <th>2</th>\n",
       "      <td>stddev</td>\n",
       "      <td>66.95222324531973</td>\n",
       "      <td>14.836788436739143</td>\n",
       "      <td>4.384873407621148</td>\n",
       "      <td>6.478772457611868</td>\n",
       "      <td>39.058116188144055</td>\n",
       "      <td>3.779313134418015</td>\n",
       "      <td>1.0984890195302817</td>\n",
       "      <td>1.3182582913258336</td>\n",
       "      <td>12.883210507177214</td>\n",
       "      <td>6.034994530267662</td>\n",
       "      <td>4.285452223167274</td>\n",
       "      <td>13.330998100978196</td>\n",
       "    </tr>\n",
       "    <tr>\n",
       "      <th>3</th>\n",
       "      <td>min</td>\n",
       "      <td>118</td>\n",
       "      <td>5</td>\n",
       "      <td>1</td>\n",
       "      <td>27</td>\n",
       "      <td>205.917</td>\n",
       "      <td>81</td>\n",
       "      <td>0</td>\n",
       "      <td>0</td>\n",
       "      <td>56</td>\n",
       "      <td>163</td>\n",
       "      <td>19</td>\n",
       "      <td>0</td>\n",
       "    </tr>\n",
       "    <tr>\n",
       "      <th>4</th>\n",
       "      <td>max</td>\n",
       "      <td>388</td>\n",
       "      <td>52</td>\n",
       "      <td>29</td>\n",
       "      <td>58</td>\n",
       "      <td>378.884</td>\n",
       "      <td>100</td>\n",
       "      <td>4</td>\n",
       "      <td>8</td>\n",
       "      <td>108</td>\n",
       "      <td>196</td>\n",
       "      <td>38</td>\n",
       "      <td>120</td>\n",
       "    </tr>\n",
       "  </tbody>\n",
       "</table>\n",
       "</div>"
      ],
      "text/plain": [
       "  summary Transportation expense Distance from Residence to Work  \\\n",
       "0   count                    740                             740   \n",
       "1    mean     221.32972972972973               29.63108108108108   \n",
       "2  stddev      66.95222324531973              14.836788436739143   \n",
       "3     min                    118                               5   \n",
       "4     max                    388                              52   \n",
       "\n",
       "         Service Time                Age Work load Average/Day   \\\n",
       "0                 740                740                    740   \n",
       "1  12.554054054054054              36.45     271.49023513513544   \n",
       "2   4.384873407621148  6.478772457611868     39.058116188144055   \n",
       "3                   1                 27                205.917   \n",
       "4                  29                 58                378.884   \n",
       "\n",
       "          Hit target            Children                 Pet  \\\n",
       "0                740                 740                 740   \n",
       "1  94.58783783783784   1.018918918918919   0.745945945945946   \n",
       "2  3.779313134418015  1.0984890195302817  1.3182582913258336   \n",
       "3                 81                   0                   0   \n",
       "4                100                   4                   8   \n",
       "\n",
       "               Weight              Height     Body Mass Index  \\\n",
       "0                 740                 740                 740   \n",
       "1   79.03513513513514  172.11486486486487  26.677027027027027   \n",
       "2  12.883210507177214   6.034994530267662   4.285452223167274   \n",
       "3                  56                 163                  19   \n",
       "4                 108                 196                  38   \n",
       "\n",
       "  Absenteeism time in hours  \n",
       "0                       740  \n",
       "1         6.924324324324324  \n",
       "2        13.330998100978196  \n",
       "3                         0  \n",
       "4                       120  "
      ]
     },
     "execution_count": 10,
     "metadata": {},
     "output_type": "execute_result"
    }
   ],
   "source": [
    "num_df.describe().toPandas()"
   ]
  },
  {
   "cell_type": "code",
   "execution_count": 19,
   "id": "2e0de864",
   "metadata": {},
   "outputs": [
    {
     "name": "stdout",
     "output_type": "stream",
     "text": [
      "+-------------+-----+\n",
      "|Social Smoker|count|\n",
      "+-------------+-----+\n",
      "|         true|   54|\n",
      "|        false|  686|\n",
      "+-------------+-----+\n",
      "\n"
     ]
    }
   ],
   "source": [
    "# Look at frequency of Boolean variables\n",
    "cat_df.groupBy('Social Smoker').count().show()\n"
   ]
  },
  {
   "cell_type": "code",
   "execution_count": 20,
   "id": "80227c5a",
   "metadata": {},
   "outputs": [
    {
     "name": "stdout",
     "output_type": "stream",
     "text": [
      "+--------------+-----+\n",
      "|Social drinker|count|\n",
      "+--------------+-----+\n",
      "|          true|  420|\n",
      "|         false|  320|\n",
      "+--------------+-----+\n",
      "\n"
     ]
    }
   ],
   "source": [
    "cat_df.groupBy('Social drinker').count().show()"
   ]
  },
  {
   "cell_type": "code",
   "execution_count": 26,
   "id": "00d338aa",
   "metadata": {},
   "outputs": [
    {
     "name": "stdout",
     "output_type": "stream",
     "text": [
      "+------------------+-----+\n",
      "|Reason for Absence|count|\n",
      "+------------------+-----+\n",
      "|              XVII|    1|\n",
      "|               VII|   15|\n",
      "|             XXVII|   69|\n",
      "|               XVI|    3|\n",
      "|              XIII|   55|\n",
      "|                 0|   43|\n",
      "|               XIV|   19|\n",
      "|               XXV|   31|\n",
      "|             XXIII|  149|\n",
      "|               III|    1|\n",
      "|                IV|    2|\n",
      "|              XXVI|   33|\n",
      "|                 V|    3|\n",
      "|                VI|    8|\n",
      "|                IX|    4|\n",
      "|                XV|    2|\n",
      "|                 X|   25|\n",
      "|               XIX|   40|\n",
      "|                II|    1|\n",
      "|               XXI|    6|\n",
      "|             XVIII|   21|\n",
      "|              XXIV|    3|\n",
      "|              XXII|   38|\n",
      "|                 I|   16|\n",
      "|                XI|   26|\n",
      "|              VIII|    6|\n",
      "|               XII|    8|\n",
      "|            XXVIII|  112|\n",
      "+------------------+-----+\n",
      "\n"
     ]
    }
   ],
   "source": [
    "cat_df.groupBy('Reason for Absence').count().show(28)"
   ]
  },
  {
   "cell_type": "code",
   "execution_count": 27,
   "id": "4d033ad2",
   "metadata": {},
   "outputs": [
    {
     "name": "stdout",
     "output_type": "stream",
     "text": [
      "+-------+-----+\n",
      "|Seasons|count|\n",
      "+-------+-----+\n",
      "| Spring|  195|\n",
      "| Summer|  170|\n",
      "| Autumn|  192|\n",
      "| Winter|  183|\n",
      "+-------+-----+\n",
      "\n"
     ]
    }
   ],
   "source": [
    "cat_df.groupBy('Seasons').count().show()"
   ]
  },
  {
   "cell_type": "code",
   "execution_count": 28,
   "id": "b2b5e770",
   "metadata": {},
   "outputs": [
    {
     "name": "stdout",
     "output_type": "stream",
     "text": [
      "+---------------+-----+\n",
      "|Day of the Week|count|\n",
      "+---------------+-----+\n",
      "|           TUES|  154|\n",
      "|            MON|  161|\n",
      "|          THURS|  125|\n",
      "|            WED|  156|\n",
      "|            FRI|  144|\n",
      "+---------------+-----+\n",
      "\n"
     ]
    }
   ],
   "source": [
    "cat_df.groupBy('Day of the Week').count().show()"
   ]
  },
  {
   "cell_type": "code",
   "execution_count": 32,
   "id": "29f893af",
   "metadata": {},
   "outputs": [
    {
     "name": "stdout",
     "output_type": "stream",
     "text": [
      "+-----------+-----+\n",
      "|  Education|count|\n",
      "+-----------+-----+\n",
      "|High School|  611|\n",
      "|   Postgrad|   79|\n",
      "|  Doctorate|    4|\n",
      "|   Graduate|   46|\n",
      "+-----------+-----+\n",
      "\n"
     ]
    }
   ],
   "source": [
    "cat_df.groupBy('Education').count().show()"
   ]
  },
  {
   "cell_type": "code",
   "execution_count": 35,
   "id": "5f1d71eb",
   "metadata": {},
   "outputs": [
    {
     "name": "stdout",
     "output_type": "stream",
     "text": [
      "+--------------------+-----+\n",
      "|Disciplinary failure|count|\n",
      "+--------------------+-----+\n",
      "|                true|   40|\n",
      "|               false|  700|\n",
      "+--------------------+-----+\n",
      "\n"
     ]
    }
   ],
   "source": [
    "cat_df.groupBy('Disciplinary failure').count().show()"
   ]
  },
  {
   "cell_type": "code",
   "execution_count": 30,
   "id": "48842dfb",
   "metadata": {},
   "outputs": [
    {
     "ename": "IllegalArgumentException",
     "evalue": "Data type string of column Reason for absence is not supported.\nData type string of column Month of absence is not supported.\nData type string of column Day of the week is not supported.\nData type string of column Seasons is not supported.\nData type string of column Education is not supported.",
     "output_type": "error",
     "traceback": [
      "\u001b[1;31m---------------------------------------------------------------------------\u001b[0m",
      "\u001b[1;31mIllegalArgumentException\u001b[0m                  Traceback (most recent call last)",
      "\u001b[1;32mC:\\Users\\SARAHW~1\\AppData\\Local\\Temp/ipykernel_10488/1317897778.py\u001b[0m in \u001b[0;36m<module>\u001b[1;34m\u001b[0m\n\u001b[0;32m      4\u001b[0m \u001b[1;32mfrom\u001b[0m \u001b[0mpyspark\u001b[0m\u001b[1;33m.\u001b[0m\u001b[0mml\u001b[0m\u001b[1;33m.\u001b[0m\u001b[0mfeature\u001b[0m \u001b[1;32mimport\u001b[0m \u001b[0mVectorAssembler\u001b[0m\u001b[1;33m\u001b[0m\u001b[1;33m\u001b[0m\u001b[0m\n\u001b[0;32m      5\u001b[0m \u001b[0massembler\u001b[0m \u001b[1;33m=\u001b[0m \u001b[0mVectorAssembler\u001b[0m\u001b[1;33m(\u001b[0m\u001b[0minputCols\u001b[0m\u001b[1;33m=\u001b[0m\u001b[0mdf\u001b[0m\u001b[1;33m.\u001b[0m\u001b[0mcolumns\u001b[0m\u001b[1;33m,\u001b[0m \u001b[0moutputCol\u001b[0m\u001b[1;33m=\u001b[0m\u001b[1;34m\"features\"\u001b[0m\u001b[1;33m,\u001b[0m \u001b[0mhandleInvalid\u001b[0m\u001b[1;33m=\u001b[0m\u001b[1;34m'keep'\u001b[0m\u001b[1;33m)\u001b[0m\u001b[1;33m\u001b[0m\u001b[1;33m\u001b[0m\u001b[0m\n\u001b[1;32m----> 6\u001b[1;33m \u001b[0mdataframe\u001b[0m \u001b[1;33m=\u001b[0m \u001b[0massembler\u001b[0m\u001b[1;33m.\u001b[0m\u001b[0mtransform\u001b[0m\u001b[1;33m(\u001b[0m\u001b[0mdf\u001b[0m\u001b[1;33m)\u001b[0m\u001b[1;33m.\u001b[0m\u001b[0mselect\u001b[0m\u001b[1;33m(\u001b[0m\u001b[1;34m\"features\"\u001b[0m\u001b[1;33m)\u001b[0m\u001b[1;33m\u001b[0m\u001b[1;33m\u001b[0m\u001b[0m\n\u001b[0m\u001b[0;32m      7\u001b[0m \u001b[0mdataframe\u001b[0m\u001b[1;33m.\u001b[0m\u001b[0mshow\u001b[0m\u001b[1;33m(\u001b[0m\u001b[1;33m)\u001b[0m\u001b[1;33m\u001b[0m\u001b[1;33m\u001b[0m\u001b[0m\n",
      "\u001b[1;32m~\\anaconda3\\lib\\site-packages\\pyspark\\ml\\base.py\u001b[0m in \u001b[0;36mtransform\u001b[1;34m(self, dataset, params)\u001b[0m\n\u001b[0;32m    215\u001b[0m                 \u001b[1;32mreturn\u001b[0m \u001b[0mself\u001b[0m\u001b[1;33m.\u001b[0m\u001b[0mcopy\u001b[0m\u001b[1;33m(\u001b[0m\u001b[0mparams\u001b[0m\u001b[1;33m)\u001b[0m\u001b[1;33m.\u001b[0m\u001b[0m_transform\u001b[0m\u001b[1;33m(\u001b[0m\u001b[0mdataset\u001b[0m\u001b[1;33m)\u001b[0m\u001b[1;33m\u001b[0m\u001b[1;33m\u001b[0m\u001b[0m\n\u001b[0;32m    216\u001b[0m             \u001b[1;32melse\u001b[0m\u001b[1;33m:\u001b[0m\u001b[1;33m\u001b[0m\u001b[1;33m\u001b[0m\u001b[0m\n\u001b[1;32m--> 217\u001b[1;33m                 \u001b[1;32mreturn\u001b[0m \u001b[0mself\u001b[0m\u001b[1;33m.\u001b[0m\u001b[0m_transform\u001b[0m\u001b[1;33m(\u001b[0m\u001b[0mdataset\u001b[0m\u001b[1;33m)\u001b[0m\u001b[1;33m\u001b[0m\u001b[1;33m\u001b[0m\u001b[0m\n\u001b[0m\u001b[0;32m    218\u001b[0m         \u001b[1;32melse\u001b[0m\u001b[1;33m:\u001b[0m\u001b[1;33m\u001b[0m\u001b[1;33m\u001b[0m\u001b[0m\n\u001b[0;32m    219\u001b[0m             \u001b[1;32mraise\u001b[0m \u001b[0mTypeError\u001b[0m\u001b[1;33m(\u001b[0m\u001b[1;34m\"Params must be a param map but got %s.\"\u001b[0m \u001b[1;33m%\u001b[0m \u001b[0mtype\u001b[0m\u001b[1;33m(\u001b[0m\u001b[0mparams\u001b[0m\u001b[1;33m)\u001b[0m\u001b[1;33m)\u001b[0m\u001b[1;33m\u001b[0m\u001b[1;33m\u001b[0m\u001b[0m\n",
      "\u001b[1;32m~\\anaconda3\\lib\\site-packages\\pyspark\\ml\\wrapper.py\u001b[0m in \u001b[0;36m_transform\u001b[1;34m(self, dataset)\u001b[0m\n\u001b[0;32m    348\u001b[0m     \u001b[1;32mdef\u001b[0m \u001b[0m_transform\u001b[0m\u001b[1;33m(\u001b[0m\u001b[0mself\u001b[0m\u001b[1;33m,\u001b[0m \u001b[0mdataset\u001b[0m\u001b[1;33m)\u001b[0m\u001b[1;33m:\u001b[0m\u001b[1;33m\u001b[0m\u001b[1;33m\u001b[0m\u001b[0m\n\u001b[0;32m    349\u001b[0m         \u001b[0mself\u001b[0m\u001b[1;33m.\u001b[0m\u001b[0m_transfer_params_to_java\u001b[0m\u001b[1;33m(\u001b[0m\u001b[1;33m)\u001b[0m\u001b[1;33m\u001b[0m\u001b[1;33m\u001b[0m\u001b[0m\n\u001b[1;32m--> 350\u001b[1;33m         \u001b[1;32mreturn\u001b[0m \u001b[0mDataFrame\u001b[0m\u001b[1;33m(\u001b[0m\u001b[0mself\u001b[0m\u001b[1;33m.\u001b[0m\u001b[0m_java_obj\u001b[0m\u001b[1;33m.\u001b[0m\u001b[0mtransform\u001b[0m\u001b[1;33m(\u001b[0m\u001b[0mdataset\u001b[0m\u001b[1;33m.\u001b[0m\u001b[0m_jdf\u001b[0m\u001b[1;33m)\u001b[0m\u001b[1;33m,\u001b[0m \u001b[0mdataset\u001b[0m\u001b[1;33m.\u001b[0m\u001b[0msql_ctx\u001b[0m\u001b[1;33m)\u001b[0m\u001b[1;33m\u001b[0m\u001b[1;33m\u001b[0m\u001b[0m\n\u001b[0m\u001b[0;32m    351\u001b[0m \u001b[1;33m\u001b[0m\u001b[0m\n\u001b[0;32m    352\u001b[0m \u001b[1;33m\u001b[0m\u001b[0m\n",
      "\u001b[1;32m~\\anaconda3\\lib\\site-packages\\py4j\\java_gateway.py\u001b[0m in \u001b[0;36m__call__\u001b[1;34m(self, *args)\u001b[0m\n\u001b[0;32m   1319\u001b[0m \u001b[1;33m\u001b[0m\u001b[0m\n\u001b[0;32m   1320\u001b[0m         \u001b[0manswer\u001b[0m \u001b[1;33m=\u001b[0m \u001b[0mself\u001b[0m\u001b[1;33m.\u001b[0m\u001b[0mgateway_client\u001b[0m\u001b[1;33m.\u001b[0m\u001b[0msend_command\u001b[0m\u001b[1;33m(\u001b[0m\u001b[0mcommand\u001b[0m\u001b[1;33m)\u001b[0m\u001b[1;33m\u001b[0m\u001b[1;33m\u001b[0m\u001b[0m\n\u001b[1;32m-> 1321\u001b[1;33m         return_value = get_return_value(\n\u001b[0m\u001b[0;32m   1322\u001b[0m             answer, self.gateway_client, self.target_id, self.name)\n\u001b[0;32m   1323\u001b[0m \u001b[1;33m\u001b[0m\u001b[0m\n",
      "\u001b[1;32m~\\anaconda3\\lib\\site-packages\\pyspark\\sql\\utils.py\u001b[0m in \u001b[0;36mdeco\u001b[1;34m(*a, **kw)\u001b[0m\n\u001b[0;32m    115\u001b[0m                 \u001b[1;31m# Hide where the exception came from that shows a non-Pythonic\u001b[0m\u001b[1;33m\u001b[0m\u001b[1;33m\u001b[0m\u001b[0m\n\u001b[0;32m    116\u001b[0m                 \u001b[1;31m# JVM exception message.\u001b[0m\u001b[1;33m\u001b[0m\u001b[1;33m\u001b[0m\u001b[0m\n\u001b[1;32m--> 117\u001b[1;33m                 \u001b[1;32mraise\u001b[0m \u001b[0mconverted\u001b[0m \u001b[1;32mfrom\u001b[0m \u001b[1;32mNone\u001b[0m\u001b[1;33m\u001b[0m\u001b[1;33m\u001b[0m\u001b[0m\n\u001b[0m\u001b[0;32m    118\u001b[0m             \u001b[1;32melse\u001b[0m\u001b[1;33m:\u001b[0m\u001b[1;33m\u001b[0m\u001b[1;33m\u001b[0m\u001b[0m\n\u001b[0;32m    119\u001b[0m                 \u001b[1;32mraise\u001b[0m\u001b[1;33m\u001b[0m\u001b[1;33m\u001b[0m\u001b[0m\n",
      "\u001b[1;31mIllegalArgumentException\u001b[0m: Data type string of column Reason for absence is not supported.\nData type string of column Month of absence is not supported.\nData type string of column Day of the week is not supported.\nData type string of column Seasons is not supported.\nData type string of column Education is not supported."
     ]
    }
   ],
   "source": [
    "# https://stackoverflow.com/questions/51831874/how-to-get-correlation-matrix-values-pyspark\n",
    "from pyspark.ml.linalg import DenseMatrix, Vectors\n",
    "from pyspark.ml.stat import Correlation\n",
    "from pyspark.ml.feature import VectorAssembler\n",
    "assembler = VectorAssembler(inputCols=df.columns, outputCol=\"features\", handleInvalid='keep')\n",
    "dataframe = assembler.transform(df).select(\"features\")\n",
    "dataframe.show()"
   ]
  },
  {
   "cell_type": "code",
   "execution_count": 36,
   "id": "75248c08",
   "metadata": {},
   "outputs": [],
   "source": [
    "# String variables not supported in correlations. Best to remove\n",
    "\n",
    "new_df = df.select(col('Transportation expense'),\n",
    "                  col('Distance from Residence to Work'),\n",
    "                  col('Service Time'),\n",
    "                  col('Age'),\n",
    "                  col('Work load Average/Day '),\n",
    "                  col('Hit target'),\n",
    "                  col('Children'),\n",
    "                  col('Pet'),\n",
    "                  col('Weight'),\n",
    "                  col('Height'),\n",
    "                  col('Body Mass Index'),\n",
    "                  col('Absenteeism time in hours'), col('Social Smoker'), col('Social Drinker'), col('Disciplinary failure'),\n",
    "                  )"
   ]
  },
  {
   "cell_type": "code",
   "execution_count": 37,
   "id": "4fae9dfd",
   "metadata": {},
   "outputs": [
    {
     "name": "stdout",
     "output_type": "stream",
     "text": [
      "+--------------------+\n",
      "|            features|\n",
      "+--------------------+\n",
      "|[289.0,36.0,13.0,...|\n",
      "|[118.0,13.0,18.0,...|\n",
      "|[179.0,51.0,18.0,...|\n",
      "|[279.0,5.0,14.0,3...|\n",
      "|[289.0,36.0,13.0,...|\n",
      "|[179.0,51.0,18.0,...|\n",
      "|[361.0,52.0,3.0,2...|\n",
      "|[260.0,50.0,11.0,...|\n",
      "|[155.0,12.0,14.0,...|\n",
      "|[235.0,11.0,14.0,...|\n",
      "|[260.0,50.0,11.0,...|\n",
      "|[260.0,50.0,11.0,...|\n",
      "|[260.0,50.0,11.0,...|\n",
      "|[179.0,51.0,18.0,...|\n",
      "|[179.0,51.0,18.0,...|\n",
      "|[246.0,25.0,16.0,...|\n",
      "|[179.0,51.0,18.0,...|\n",
      "|[179.0,51.0,18.0,...|\n",
      "|[189.0,29.0,13.0,...|\n",
      "|[248.0,25.0,14.0,...|\n",
      "+--------------------+\n",
      "only showing top 20 rows\n",
      "\n"
     ]
    }
   ],
   "source": [
    "assembler = VectorAssembler(inputCols=new_df.columns, outputCol=\"features\", handleInvalid='keep')\n",
    "dataframe = assembler.transform(new_df).select(\"features\")\n",
    "dataframe.show()"
   ]
  },
  {
   "cell_type": "code",
   "execution_count": 39,
   "id": "66008b9a",
   "metadata": {},
   "outputs": [
    {
     "name": "stdout",
     "output_type": "stream",
     "text": [
      "DenseMatrix([[ 1.00000000e+00,  2.62183111e-01, -3.49887036e-01,\n",
      "              -2.27542434e-01,  5.43806459e-03, -8.01930398e-02,\n",
      "               3.83001191e-01,  4.00080301e-01, -2.07434941e-01,\n",
      "              -1.94495956e-01, -1.36516573e-01,  2.75846310e-02,\n",
      "               4.43561444e-02,  1.45117454e-01,  1.09221690e-01],\n",
      "             [ 2.62183111e-01,  1.00000000e+00,  1.31730304e-01,\n",
      "              -1.45886369e-01, -6.86769583e-02, -1.38646253e-02,\n",
      "               5.42303931e-02,  2.05940581e-01, -4.78590935e-02,\n",
      "              -3.53372180e-01,  1.13771638e-01, -8.83628219e-02,\n",
      "              -7.53687916e-02,  4.52195702e-01, -5.65270951e-02],\n",
      "             [-3.49887036e-01,  1.31730304e-01,  1.00000000e+00,\n",
      "               6.70978917e-01, -6.68491033e-04, -7.84003475e-03,\n",
      "              -4.71284116e-02, -4.40300667e-01,  4.55974804e-01,\n",
      "              -5.31345133e-02,  4.99717950e-01,  1.90292614e-02,\n",
      "               7.24243087e-02,  3.53140609e-01, -2.21160260e-04],\n",
      "             [-2.27542434e-01, -1.45886369e-01,  6.70978917e-01,\n",
      "               1.00000000e+00, -3.94251764e-02, -3.92243142e-02,\n",
      "               5.69841215e-02, -2.31225999e-01,  4.18730459e-01,\n",
      "              -6.29965830e-02,  4.70688017e-01,  6.57597013e-02,\n",
      "               1.21738391e-01,  2.13182620e-01,  1.04303851e-01],\n",
      "             [ 5.43806459e-03, -6.86769583e-02, -6.68491033e-04,\n",
      "              -3.94251764e-02,  1.00000000e+00, -8.94449560e-02,\n",
      "               2.78202361e-02,  7.11419762e-03, -3.85215697e-02,\n",
      "               1.03314799e-01, -9.07092809e-02,  2.47488997e-02,\n",
      "               3.09683237e-02, -3.37126191e-02,  2.90257512e-02],\n",
      "             [-8.01930398e-02, -1.38646253e-02, -7.84003475e-03,\n",
      "              -3.92243142e-02, -8.94449560e-02,  1.00000000e+00,\n",
      "              -1.40906000e-02,  7.20127601e-03, -4.49474247e-02,\n",
      "               9.32669294e-02, -8.89394521e-02,  2.66950646e-02,\n",
      "               5.12538947e-02, -1.02479904e-01, -1.47970834e-01],\n",
      "             [ 3.83001191e-01,  5.42303931e-02, -4.71284116e-02,\n",
      "               5.69841215e-02,  2.78202361e-02, -1.40906000e-02,\n",
      "               1.00000000e+00,  1.08917279e-01, -1.39552437e-01,\n",
      "              -1.42083220e-02, -1.44150249e-01,  1.13756496e-01,\n",
      "               1.56087556e-01,  2.06375968e-01,  7.20963471e-02],\n",
      "             [ 4.00080301e-01,  2.05940581e-01, -4.40300667e-01,\n",
      "              -2.31225999e-01,  7.11419762e-03,  7.20127601e-03,\n",
      "               1.08917279e-01,  1.00000000e+00, -1.03770410e-01,\n",
      "              -1.03143350e-01, -7.61029459e-02, -2.82765891e-02,\n",
      "               1.05378757e-01, -1.22780216e-01,  1.88813529e-02],\n",
      "             [-2.07434941e-01, -4.78590935e-02,  4.55974804e-01,\n",
      "               4.18730459e-01, -3.85215697e-02, -4.49474247e-02,\n",
      "              -1.39552437e-01, -1.03770410e-01,  1.00000000e+00,\n",
      "               3.06801835e-01,  9.04116901e-01,  1.57891765e-02,\n",
      "              -1.98511210e-01,  3.78663607e-01,  7.22245804e-02],\n",
      "             [-1.94495956e-01, -3.53372180e-01, -5.31345133e-02,\n",
      "              -6.29965830e-02,  1.03314799e-01,  9.32669294e-02,\n",
      "              -1.42083220e-02, -1.03143350e-01,  3.06801835e-01,\n",
      "               1.00000000e+00, -1.21048777e-01,  1.44420476e-01,\n",
      "               3.27139076e-03,  1.69951078e-01, -1.04983751e-02],\n",
      "             [-1.36516573e-01,  1.13771638e-01,  4.99717950e-01,\n",
      "               4.70688017e-01, -9.07092809e-02, -8.89394521e-02,\n",
      "              -1.44150249e-01, -7.61029459e-02,  9.04116901e-01,\n",
      "              -1.21048777e-01,  1.00000000e+00, -4.97194791e-02,\n",
      "              -1.96006483e-01,  3.23977794e-01,  7.94281798e-02],\n",
      "             [ 2.75846310e-02, -8.83628219e-02,  1.90292614e-02,\n",
      "               6.57597013e-02,  2.47488997e-02,  2.66950646e-02,\n",
      "               1.13756496e-01, -2.82765891e-02,  1.57891765e-02,\n",
      "               1.44420476e-01, -4.97194791e-02,  1.00000000e+00,\n",
      "              -8.93642314e-03,  6.50673428e-02, -1.24247984e-01],\n",
      "             [ 4.43561444e-02, -7.53687916e-02,  7.24243087e-02,\n",
      "               1.21738391e-01,  3.09683237e-02,  5.12538947e-02,\n",
      "               1.56087556e-01,  1.05378757e-01, -1.98511210e-01,\n",
      "               3.27139076e-03, -1.96006483e-01, -8.93642314e-03,\n",
      "               1.00000000e+00, -1.11678005e-01,  1.16748119e-01],\n",
      "             [ 1.45117454e-01,  4.52195702e-01,  3.53140609e-01,\n",
      "               2.13182620e-01, -3.37126191e-02, -1.02479904e-01,\n",
      "               2.06375968e-01, -1.22780216e-01,  3.78663607e-01,\n",
      "               1.69951078e-01,  3.23977794e-01,  6.50673428e-02,\n",
      "              -1.11678005e-01,  1.00000000e+00,  5.18380278e-02],\n",
      "             [ 1.09221690e-01, -5.65270951e-02, -2.21160260e-04,\n",
      "               1.04303851e-01,  2.90257512e-02, -1.47970834e-01,\n",
      "               7.20963471e-02,  1.88813529e-02,  7.22245804e-02,\n",
      "              -1.04983751e-02,  7.94281798e-02, -1.24247984e-01,\n",
      "               1.16748119e-01,  5.18380278e-02,  1.00000000e+00]])\n"
     ]
    }
   ],
   "source": [
    "correlation = Correlation.corr(dataframe,\"features\",\"pearson\").collect()[0][0]\n",
    "print(str(correlation))"
   ]
  },
  {
   "cell_type": "code",
   "execution_count": 41,
   "id": "e37266aa",
   "metadata": {
    "scrolled": false
   },
   "outputs": [
    {
     "name": "stdout",
     "output_type": "stream",
     "text": [
      "[[1.0, 0.2621831106319073, -0.3498870361913601, -0.22754243407728567, 0.0054380645902345455, -0.08019303979120941, 0.3830011912646053, 0.40008030107065345, -0.2074349414957676, -0.19449595631016842, -0.1365165732413513, 0.027584630997934137, 0.044356144422191414, 0.14511745368469148, 0.10922168988435187], [0.2621831106319073, 1.0, 0.13173030369957126, -0.14588636884853523, -0.06867695829634854, -0.013864625298016561, 0.05423039311298662, 0.20594058058911732, -0.047859093516036115, -0.3533721796161199, 0.1137716383392065, -0.08836282189613677, -0.07536879161747877, 0.4521957020132829, -0.05652709507509265], [-0.3498870361913601, 0.13173030369957126, 1.0, 0.6709789169180506, -0.0006684910327938819, -0.007840034749749248, -0.047128411649494224, -0.44030066714128646, 0.45597480449371997, -0.053134513277109365, 0.4997179503526042, 0.019029261406040162, 0.07242430866575386, 0.3531406085926749, -0.0002211602598921216], [-0.22754243407728567, -0.14588636884853523, 0.6709789169180506, 1.0, -0.03942517635646372, -0.039224314166830775, 0.05698412148423866, -0.2312259991265853, 0.41873045924203905, -0.06299658296246183, 0.47068801697888657, 0.06575970132037066, 0.12173839071563679, 0.21318262026110196, 0.10430385050049072], [0.0054380645902345455, -0.06867695829634854, -0.0006684910327938819, -0.03942517635646372, 1.0, -0.08944495602065969, 0.027820236082698905, 0.0071141976200455575, -0.0385215697460393, 0.10331479865408055, -0.09070928085101426, 0.024748899704094145, 0.03096832371809393, -0.03371261914210398, 0.029025751174332794], [-0.08019303979120941, -0.013864625298016561, -0.007840034749749248, -0.039224314166830775, -0.08944495602065969, 1.0, -0.014090599955156775, 0.007201276005109092, -0.044947424718673024, 0.09326692942934192, -0.08893945205648729, 0.026695064564031416, 0.05125389471822205, -0.10247990374834987, -0.14797083444555673], [0.3830011912646053, 0.05423039311298662, -0.047128411649494224, 0.05698412148423866, 0.027820236082698905, -0.014090599955156775, 1.0, 0.10891727933104071, -0.13955243704119408, -0.014208321999764613, -0.14415024891761588, 0.11375649558100549, 0.15608755559489612, 0.20637596757100318, 0.07209634709422777], [0.40008030107065345, 0.20594058058911732, -0.44030066714128646, -0.2312259991265853, 0.0071141976200455575, 0.007201276005109092, 0.10891727933104071, 1.0, -0.10377040985752758, -0.10314335007853181, -0.07610294592143618, -0.028276589052987768, 0.1053787574564542, -0.1227802162413711, 0.0188813529331215], [-0.2074349414957676, -0.047859093516036115, 0.45597480449371997, 0.41873045924203905, -0.0385215697460393, -0.044947424718673024, -0.13955243704119408, -0.10377040985752758, 1.0, 0.3068018347575882, 0.9041169005730315, 0.015789176536920267, -0.19851120983207446, 0.3786636066626807, 0.07222458038211689], [-0.19449595631016842, -0.3533721796161199, -0.053134513277109365, -0.06299658296246183, 0.10331479865408055, 0.09326692942934192, -0.014208321999764613, -0.10314335007853181, 0.3068018347575882, 1.0, -0.12104877689385991, 0.1444204756427707, 0.003271390756787971, 0.1699510782071378, -0.010498375133107486], [-0.1365165732413513, 0.1137716383392065, 0.4997179503526042, 0.47068801697888657, -0.09070928085101426, -0.08893945205648729, -0.14415024891761588, -0.07610294592143618, 0.9041169005730315, -0.12104877689385991, 1.0, -0.04971947911291968, -0.19600648326867134, 0.32397779378960584, 0.07942817977307376], [0.027584630997934137, -0.08836282189613677, 0.019029261406040162, 0.06575970132037066, 0.024748899704094145, 0.026695064564031416, 0.11375649558100549, -0.028276589052987768, 0.015789176536920267, 0.1444204756427707, -0.04971947911291968, 1.0, -0.008936423141141042, 0.06506734280385393, -0.12424798409789116], [0.044356144422191414, -0.07536879161747877, 0.07242430866575386, 0.12173839071563679, 0.03096832371809393, 0.05125389471822205, 0.15608755559489612, 0.1053787574564542, -0.19851120983207446, 0.003271390756787971, -0.19600648326867134, -0.008936423141141042, 1.0, -0.11167800453514784, 0.11674811883330147], [0.14511745368469148, 0.4521957020132829, 0.3531406085926749, 0.21318262026110196, -0.03371261914210398, -0.10247990374834987, 0.20637596757100318, -0.1227802162413711, 0.3786636066626807, 0.1699510782071378, 0.32397779378960584, 0.06506734280385393, -0.11167800453514784, 1.0, 0.05183802776388215], [0.10922168988435187, -0.05652709507509265, -0.0002211602598921216, 0.10430385050049072, 0.029025751174332794, -0.14797083444555673, 0.07209634709422777, 0.0188813529331215, 0.07222458038211689, -0.010498375133107486, 0.07942817977307376, -0.12424798409789116, 0.11674811883330147, 0.05183802776388215, 1.0]]\n",
      "DataFrame[Transportation expense: double, Distance from Residence to Work: double, Service Time: double, Age: double, Work load Average/Day : double, Hit target: double, Children: double, Pet: double, Weight: double, Height: double, Body Mass Index: double, Absenteeism time in hours: double, Social Smoker: double, Social Drinker: double, Disciplinary failure: double]\n"
     ]
    }
   ],
   "source": [
    "rows = correlation.toArray().tolist()\n",
    "print(str(rows))\n",
    "correlationdf = spark.createDataFrame(rows, new_df.columns)\n",
    "print(str(correlationdf))"
   ]
  },
  {
   "cell_type": "code",
   "execution_count": 44,
   "id": "6cbd6f80",
   "metadata": {},
   "outputs": [
    {
     "data": {
      "text/plain": [
       "0.027584630997934092"
      ]
     },
     "execution_count": 44,
     "metadata": {},
     "output_type": "execute_result"
    }
   ],
   "source": [
    "df.stat.corr(\"Transportation expense\", \"Absenteeism time in hours\")"
   ]
  },
  {
   "cell_type": "code",
   "execution_count": 3,
   "id": "a7f4780f",
   "metadata": {},
   "outputs": [
    {
     "name": "stdout",
     "output_type": "stream",
     "text": [
      "+---------------------------------+-----+----+\n",
      "|Reason for Absence_Social drinker|false|true|\n",
      "+---------------------------------+-----+----+\n",
      "|                               II|    1|   0|\n",
      "|                                X|   11|  14|\n",
      "|                              VII|    9|   6|\n",
      "|                              XII|    4|   4|\n",
      "|                               XV|    0|   2|\n",
      "|                            XVIII|   12|   9|\n",
      "|                              XXI|    4|   2|\n",
      "|                            XXVII|   31|  38|\n",
      "|                             XVII|    1|   0|\n",
      "|                             XXVI|    8|  25|\n",
      "|                               XI|   15|  11|\n",
      "|                               IV|    1|   1|\n",
      "|                              XVI|    3|   0|\n",
      "|                                I|   11|   5|\n",
      "|                             VIII|    5|   1|\n",
      "|                             XIII|   21|  34|\n",
      "|                              XIX|   11|  29|\n",
      "|                                V|    1|   2|\n",
      "|                              III|    0|   1|\n",
      "|                                0|   14|  29|\n",
      "|                           XXVIII|   25|  87|\n",
      "|                              XXV|   25|   6|\n",
      "|                             XXII|   12|  26|\n",
      "|                               VI|    5|   3|\n",
      "|                            XXIII|   82|  67|\n",
      "|                             XXIV|    0|   3|\n",
      "|                              XIV|    6|  13|\n",
      "|                               IX|    2|   2|\n",
      "+---------------------------------+-----+----+\n",
      "\n"
     ]
    }
   ],
   "source": [
    "# https://www.datasciencemadesimple.com/frequency-table-or-cross-table-in-pyspark-2-way-cross-table/\n",
    "df.crosstab('Reason for Absence', 'Social drinker').show(28)"
   ]
  },
  {
   "cell_type": "code",
   "execution_count": 4,
   "id": "fce5227d",
   "metadata": {},
   "outputs": [
    {
     "name": "stdout",
     "output_type": "stream",
     "text": [
      "+--------------------------------+-----+----+\n",
      "|Reason for Absence_Social smoker|false|true|\n",
      "+--------------------------------+-----+----+\n",
      "|                              II|    1|   0|\n",
      "|                               X|   24|   1|\n",
      "|                             VII|   13|   2|\n",
      "|                             XII|    8|   0|\n",
      "|                              XV|    1|   1|\n",
      "|                           XVIII|   17|   4|\n",
      "|                             XXI|    4|   2|\n",
      "|                           XXVII|   69|   0|\n",
      "|                            XVII|    0|   1|\n",
      "|                            XXVI|   33|   0|\n",
      "|                              XI|   23|   3|\n",
      "|                              IV|    2|   0|\n",
      "|                             XVI|    1|   2|\n",
      "|                               I|   15|   1|\n",
      "|                            VIII|    4|   2|\n",
      "|                            XIII|   54|   1|\n",
      "|                             XIX|   36|   4|\n",
      "|                               V|    3|   0|\n",
      "|                             III|    1|   0|\n",
      "|                               0|   35|   8|\n",
      "|                          XXVIII|  108|   4|\n",
      "|                             XXV|   24|   7|\n",
      "|                            XXII|   34|   4|\n",
      "|                              VI|    8|   0|\n",
      "|                           XXIII|  145|   4|\n",
      "|                            XXIV|    3|   0|\n",
      "|                             XIV|   16|   3|\n",
      "|                              IX|    4|   0|\n",
      "+--------------------------------+-----+----+\n",
      "\n"
     ]
    }
   ],
   "source": [
    "df.crosstab('Reason for Absence', 'Social smoker').show(28)"
   ]
  },
  {
   "cell_type": "code",
   "execution_count": 5,
   "id": "945b897a",
   "metadata": {},
   "outputs": [
    {
     "name": "stdout",
     "output_type": "stream",
     "text": [
      "+----------------------------------+---+---+-----+----+---+\n",
      "|Reason for Absence_Day of the week|FRI|MON|THURS|TUES|WED|\n",
      "+----------------------------------+---+---+-----+----+---+\n",
      "|                                II|  0|  0|    0|   0|  1|\n",
      "|                                 X|  5|  9|    4|   1|  6|\n",
      "|                               VII|  1|  7|    1|   1|  5|\n",
      "|                               XII|  1|  2|    1|   2|  2|\n",
      "|                                XV|  1|  1|    0|   0|  0|\n",
      "|                             XVIII|  2|  5|    2|   8|  4|\n",
      "|                               XXI|  0|  1|    2|   1|  2|\n",
      "|                             XXVII| 20| 10|   12|   7| 20|\n",
      "|                              XVII|  0|  0|    0|   1|  0|\n",
      "|                              XXVI|  8| 10|    2|   6|  7|\n",
      "|                                XI|  1| 10|    4|   4|  7|\n",
      "|                                IV|  0|  0|    2|   0|  0|\n",
      "|                               XVI|  1|  0|    0|   2|  0|\n",
      "|                                 I|  1|  6|    0|   3|  6|\n",
      "|                              VIII|  1|  1|    1|   2|  1|\n",
      "|                              XIII|  7| 12|   12|  10| 14|\n",
      "|                               XIX|  7| 11|    8|   9|  5|\n",
      "|                                 V|  1|  0|    0|   1|  1|\n",
      "|                               III|  0|  0|    0|   0|  1|\n",
      "|                                 0|  6|  6|    7|  13| 11|\n",
      "|                            XXVIII| 34| 22|   17|  26| 13|\n",
      "|                               XXV|  5| 10|    8|   5|  3|\n",
      "|                              XXII| 10|  9|    4|   6|  9|\n",
      "|                                VI|  1|  2|    1|   2|  2|\n",
      "|                             XXIII| 27| 22|   30|  37| 33|\n",
      "|                              XXIV|  0|  1|    0|   1|  1|\n",
      "|                               XIV|  4|  3|    7|   4|  1|\n",
      "|                                IX|  0|  1|    0|   2|  1|\n",
      "+----------------------------------+---+---+-----+----+---+\n",
      "\n"
     ]
    }
   ],
   "source": [
    "df.crosstab('Reason for Absence', 'Day of the week').show(28)"
   ]
  },
  {
   "cell_type": "code",
   "execution_count": 6,
   "id": "7373f23d",
   "metadata": {},
   "outputs": [
    {
     "name": "stdout",
     "output_type": "stream",
     "text": [
      "+--------------------------+------+------+------+------+\n",
      "|Reason for Absence_Seasons|Autumn|Spring|Summer|Winter|\n",
      "+--------------------------+------+------+------+------+\n",
      "|                        II|     0|     1|     0|     0|\n",
      "|                         X|     4|     7|     2|    12|\n",
      "|                       VII|     4|     4|     2|     5|\n",
      "|                       XII|     4|     2|     0|     2|\n",
      "|                        XV|     0|     1|     1|     0|\n",
      "|                     XVIII|     8|     4|     7|     2|\n",
      "|                       XXI|     1|     3|     2|     0|\n",
      "|                     XXVII|    56|     1|     0|    12|\n",
      "|                      XVII|     1|     0|     0|     0|\n",
      "|                      XXVI|     6|    11|    11|     5|\n",
      "|                        XI|     4|     4|     9|     9|\n",
      "|                        IV|     0|     2|     0|     0|\n",
      "|                       XVI|     0|     0|     0|     3|\n",
      "|                         I|     4|     6|     5|     1|\n",
      "|                      VIII|     1|     1|     2|     2|\n",
      "|                      XIII|    14|    11|     8|    22|\n",
      "|                       XIX|    10|     4|    10|    16|\n",
      "|                         V|     0|     0|     2|     1|\n",
      "|                       III|     1|     0|     0|     0|\n",
      "|                         0|     2|    21|     6|    14|\n",
      "|                    XXVIII|    18|    32|    28|    34|\n",
      "|                       XXV|    14|     3|    11|     3|\n",
      "|                      XXII|     9|     7|    11|    11|\n",
      "|                        VI|     1|     3|     3|     1|\n",
      "|                     XXIII|    27|    57|    43|    22|\n",
      "|                      XXIV|     0|     2|     1|     0|\n",
      "|                       XIV|     3|     7|     3|     6|\n",
      "|                        IX|     0|     1|     3|     0|\n",
      "+--------------------------+------+------+------+------+\n",
      "\n"
     ]
    }
   ],
   "source": [
    "df.crosstab('Reason for Absence', 'Seasons').show(28)"
   ]
  },
  {
   "cell_type": "code",
   "execution_count": 2,
   "id": "0adea17f",
   "metadata": {},
   "outputs": [
    {
     "name": "stdout",
     "output_type": "stream",
     "text": [
      "+---+------------------+----------------+---------------+-------+----------------------+-------------------------------+------------+---+----------------------+----------+--------------------+-----------+--------+--------------+-------------+---+------+------+---------------+-------------------------+----------+-------------+-------------+----------------+\n",
      "| ID|Reason for absence|Month of absence|Day of the week|Seasons|Transportation expense|Distance from Residence to Work|Service time|Age|Work load Average/day |Hit target|Disciplinary failure|  Education|Children|Social drinker|Social smoker|Pet|Weight|Height|Body mass index|Absenteeism time in hours|Day_Encode|Reason Encode|Season Encode|Education Encode|\n",
      "+---+------------------+----------------+---------------+-------+----------------------+-------------------------------+------------+---+----------------------+----------+--------------------+-----------+--------+--------------+-------------+---+------+------+---------------+-------------------------+----------+-------------+-------------+----------------+\n",
      "| 11|              XXVI|             JUL|           TUES| Summer|                   289|                             36|          13| 33|               239.554|        97|               false|High School|       2|          true|        false|  1|    90|   172|             30|                        4|       2.0|          7.0|          3.0|             0.0|\n",
      "| 36|                 0|             JUL|           TUES| Summer|                   118|                             13|          18| 50|               239.554|        97|                true|High School|       1|          true|        false|  0|    98|   178|             31|                        0|       2.0|          4.0|          3.0|             0.0|\n",
      "|  3|             XXIII|             JUL|            WED| Summer|                   179|                             51|          18| 38|               239.554|        97|               false|High School|       0|          true|        false|  0|    89|   170|             31|                        2|       1.0|          0.0|          3.0|             0.0|\n",
      "|  7|               VII|             JUL|          THURS| Summer|                   279|                              5|          14| 39|               239.554|        97|               false|High School|       2|          true|         true|  0|    68|   168|             24|                        4|       4.0|         14.0|          3.0|             0.0|\n",
      "| 11|             XXIII|             JUL|          THURS| Summer|                   289|                             36|          13| 33|               239.554|        97|               false|High School|       2|          true|        false|  1|    90|   172|             30|                        2|       4.0|          0.0|          3.0|             0.0|\n",
      "|  3|             XXIII|             JUL|            FRI| Summer|                   179|                             51|          18| 38|               239.554|        97|               false|High School|       0|          true|        false|  0|    89|   170|             31|                        2|       3.0|          0.0|          3.0|             0.0|\n",
      "| 10|              XXII|             JUL|            FRI| Summer|                   361|                             52|           3| 28|               239.554|        97|               false|High School|       1|          true|        false|  4|    80|   172|             27|                        8|       3.0|          6.0|          3.0|             0.0|\n",
      "| 20|             XXIII|             JUL|            FRI| Summer|                   260|                             50|          11| 36|               239.554|        97|               false|High School|       4|          true|        false|  0|    65|   168|             23|                        4|       3.0|          0.0|          3.0|             0.0|\n",
      "| 14|               XIX|             JUL|            MON| Summer|                   155|                             12|          14| 34|               239.554|        97|               false|High School|       2|          true|        false|  0|    95|   196|             25|                       40|       0.0|          5.0|          3.0|             0.0|\n",
      "|  1|              XXII|             JUL|            MON| Summer|                   235|                             11|          14| 37|               239.554|        97|               false|   Postgrad|       1|         false|        false|  1|    88|   172|             29|                        8|       0.0|          6.0|          3.0|             1.0|\n",
      "| 20|                 I|             JUL|            MON| Summer|                   260|                             50|          11| 36|               239.554|        97|               false|High School|       4|          true|        false|  0|    65|   168|             23|                        8|       0.0|         13.0|          3.0|             0.0|\n",
      "| 20|                 I|             JUL|           TUES| Summer|                   260|                             50|          11| 36|               239.554|        97|               false|High School|       4|          true|        false|  0|    65|   168|             23|                        8|       2.0|         13.0|          3.0|             0.0|\n",
      "| 20|                XI|             JUL|            WED| Summer|                   260|                             50|          11| 36|               239.554|        97|               false|High School|       4|          true|        false|  0|    65|   168|             23|                        8|       1.0|          9.0|          3.0|             0.0|\n",
      "|  3|                XI|             JUL|            WED| Summer|                   179|                             51|          18| 38|               239.554|        97|               false|High School|       0|          true|        false|  0|    89|   170|             31|                        1|       1.0|          9.0|          3.0|             0.0|\n",
      "|  3|             XXIII|             JUL|            WED| Summer|                   179|                             51|          18| 38|               239.554|        97|               false|High School|       0|          true|        false|  0|    89|   170|             31|                        4|       1.0|          0.0|          3.0|             0.0|\n",
      "| 24|               XIV|             JUL|            FRI| Summer|                   246|                             25|          16| 41|               239.554|        97|               false|High School|       0|          true|        false|  0|    67|   170|             23|                        8|       3.0|         12.0|          3.0|             0.0|\n",
      "|  3|             XXIII|             JUL|            FRI| Summer|                   179|                             51|          18| 38|               239.554|        97|               false|High School|       0|          true|        false|  0|    89|   170|             31|                        2|       3.0|          0.0|          3.0|             0.0|\n",
      "|  3|               XXI|             JUL|            MON| Summer|                   179|                             51|          18| 38|               239.554|        97|               false|High School|       0|          true|        false|  0|    89|   170|             31|                        8|       0.0|         18.0|          3.0|             0.0|\n",
      "|  6|                XI|             JUL|          THURS| Summer|                   189|                             29|          13| 33|               239.554|        97|               false|High School|       2|         false|        false|  2|    69|   167|             25|                        8|       4.0|          9.0|          3.0|             0.0|\n",
      "| 33|             XXIII|             AUG|            WED| Summer|                   248|                             25|          14| 47|               205.917|        92|               false|High School|       2|         false|        false|  1|    86|   165|             32|                        2|       1.0|          0.0|          3.0|             0.0|\n",
      "+---+------------------+----------------+---------------+-------+----------------------+-------------------------------+------------+---+----------------------+----------+--------------------+-----------+--------+--------------+-------------+---+------+------+---------------+-------------------------+----------+-------------+-------------+----------------+\n",
      "only showing top 20 rows\n",
      "\n"
     ]
    }
   ],
   "source": [
    "# Encode the Categorical Variables \n",
    "# String Indexer does not work for Boolean - need to treat separately\n",
    "# \n",
    "from pyspark.ml import Pipeline\n",
    "from pyspark.ml.feature import StringIndexer\n",
    "indexers = [StringIndexer(inputCol='Day of the week', outputCol='Day_Encode'), StringIndexer(inputCol='Reason for absence', outputCol='Reason Encode'),\n",
    "           StringIndexer(inputCol='Seasons', outputCol='Season Encode'), StringIndexer(inputCol='Education', outputCol='Education Encode')]\n",
    "pipeline = Pipeline(stages=indexers)\n",
    "new_df = pipeline.fit(df).transform(df)\n",
    "new_df.show()"
   ]
  },
  {
   "cell_type": "code",
   "execution_count": 4,
   "id": "3b25b35f",
   "metadata": {},
   "outputs": [
    {
     "name": "stdout",
     "output_type": "stream",
     "text": [
      "+---+----------------------+-------------------------------+------------+---+----------------------+----------+--------------------+--------+--------------+-------------+---+------+------+---------------+-------------------------+----------+-------------+-------------+----------------+\n",
      "| ID|Transportation expense|Distance from Residence to Work|Service time|Age|Work load Average/day |Hit target|Disciplinary failure|Children|Social drinker|Social smoker|Pet|Weight|Height|Body mass index|Absenteeism time in hours|Day_Encode|Reason Encode|Season Encode|Education Encode|\n",
      "+---+----------------------+-------------------------------+------------+---+----------------------+----------+--------------------+--------+--------------+-------------+---+------+------+---------------+-------------------------+----------+-------------+-------------+----------------+\n",
      "| 11|                   289|                             36|          13| 33|               239.554|        97|               false|       2|          true|        false|  1|    90|   172|             30|                        4|       2.0|          7.0|          3.0|             0.0|\n",
      "| 36|                   118|                             13|          18| 50|               239.554|        97|                true|       1|          true|        false|  0|    98|   178|             31|                        0|       2.0|          4.0|          3.0|             0.0|\n",
      "|  3|                   179|                             51|          18| 38|               239.554|        97|               false|       0|          true|        false|  0|    89|   170|             31|                        2|       1.0|          0.0|          3.0|             0.0|\n",
      "|  7|                   279|                              5|          14| 39|               239.554|        97|               false|       2|          true|         true|  0|    68|   168|             24|                        4|       4.0|         14.0|          3.0|             0.0|\n",
      "| 11|                   289|                             36|          13| 33|               239.554|        97|               false|       2|          true|        false|  1|    90|   172|             30|                        2|       4.0|          0.0|          3.0|             0.0|\n",
      "|  3|                   179|                             51|          18| 38|               239.554|        97|               false|       0|          true|        false|  0|    89|   170|             31|                        2|       3.0|          0.0|          3.0|             0.0|\n",
      "| 10|                   361|                             52|           3| 28|               239.554|        97|               false|       1|          true|        false|  4|    80|   172|             27|                        8|       3.0|          6.0|          3.0|             0.0|\n",
      "| 20|                   260|                             50|          11| 36|               239.554|        97|               false|       4|          true|        false|  0|    65|   168|             23|                        4|       3.0|          0.0|          3.0|             0.0|\n",
      "| 14|                   155|                             12|          14| 34|               239.554|        97|               false|       2|          true|        false|  0|    95|   196|             25|                       40|       0.0|          5.0|          3.0|             0.0|\n",
      "|  1|                   235|                             11|          14| 37|               239.554|        97|               false|       1|         false|        false|  1|    88|   172|             29|                        8|       0.0|          6.0|          3.0|             1.0|\n",
      "| 20|                   260|                             50|          11| 36|               239.554|        97|               false|       4|          true|        false|  0|    65|   168|             23|                        8|       0.0|         13.0|          3.0|             0.0|\n",
      "| 20|                   260|                             50|          11| 36|               239.554|        97|               false|       4|          true|        false|  0|    65|   168|             23|                        8|       2.0|         13.0|          3.0|             0.0|\n",
      "| 20|                   260|                             50|          11| 36|               239.554|        97|               false|       4|          true|        false|  0|    65|   168|             23|                        8|       1.0|          9.0|          3.0|             0.0|\n",
      "|  3|                   179|                             51|          18| 38|               239.554|        97|               false|       0|          true|        false|  0|    89|   170|             31|                        1|       1.0|          9.0|          3.0|             0.0|\n",
      "|  3|                   179|                             51|          18| 38|               239.554|        97|               false|       0|          true|        false|  0|    89|   170|             31|                        4|       1.0|          0.0|          3.0|             0.0|\n",
      "| 24|                   246|                             25|          16| 41|               239.554|        97|               false|       0|          true|        false|  0|    67|   170|             23|                        8|       3.0|         12.0|          3.0|             0.0|\n",
      "|  3|                   179|                             51|          18| 38|               239.554|        97|               false|       0|          true|        false|  0|    89|   170|             31|                        2|       3.0|          0.0|          3.0|             0.0|\n",
      "|  3|                   179|                             51|          18| 38|               239.554|        97|               false|       0|          true|        false|  0|    89|   170|             31|                        8|       0.0|         18.0|          3.0|             0.0|\n",
      "|  6|                   189|                             29|          13| 33|               239.554|        97|               false|       2|         false|        false|  2|    69|   167|             25|                        8|       4.0|          9.0|          3.0|             0.0|\n",
      "| 33|                   248|                             25|          14| 47|               205.917|        92|               false|       2|         false|        false|  1|    86|   165|             32|                        2|       1.0|          0.0|          3.0|             0.0|\n",
      "+---+----------------------+-------------------------------+------------+---+----------------------+----------+--------------------+--------+--------------+-------------+---+------+------+---------------+-------------------------+----------+-------------+-------------+----------------+\n",
      "only showing top 20 rows\n",
      "\n"
     ]
    }
   ],
   "source": [
    "# https://towardsdatascience.com/your-first-apache-spark-ml-model-d2bb82b599dd\n",
    "# Drop categorical variables\n",
    "new_df = new_df.drop('Day of the week')\n",
    "new_df = new_df.drop('Reason for absence')\n",
    "new_df = new_df.drop('Seasons')\n",
    "new_df = new_df.drop('Education')\n",
    "new_df = new_df.drop('Month of absence')\n",
    "new_df.show()"
   ]
  },
  {
   "cell_type": "code",
   "execution_count": 5,
   "id": "8f8199cb",
   "metadata": {},
   "outputs": [
    {
     "name": "stdout",
     "output_type": "stream",
     "text": [
      "+--------------------+\n",
      "|            features|\n",
      "+--------------------+\n",
      "|[11.0,289.0,36.0,...|\n",
      "|[36.0,118.0,13.0,...|\n",
      "|[3.0,179.0,51.0,1...|\n",
      "|[7.0,279.0,5.0,14...|\n",
      "|[11.0,289.0,36.0,...|\n",
      "|[3.0,179.0,51.0,1...|\n",
      "|[10.0,361.0,52.0,...|\n",
      "|[20.0,260.0,50.0,...|\n",
      "|[14.0,155.0,12.0,...|\n",
      "|[1.0,235.0,11.0,1...|\n",
      "|[20.0,260.0,50.0,...|\n",
      "|[20.0,260.0,50.0,...|\n",
      "|[20.0,260.0,50.0,...|\n",
      "|[3.0,179.0,51.0,1...|\n",
      "|[3.0,179.0,51.0,1...|\n",
      "|[24.0,246.0,25.0,...|\n",
      "|[3.0,179.0,51.0,1...|\n",
      "|[3.0,179.0,51.0,1...|\n",
      "|[6.0,189.0,29.0,1...|\n",
      "|[33.0,248.0,25.0,...|\n",
      "+--------------------+\n",
      "only showing top 20 rows\n",
      "\n"
     ]
    }
   ],
   "source": [
    "# Assemble features into vector \n",
    "from pyspark.ml.feature import VectorAssembler\n",
    "assembler = VectorAssembler(inputCols=new_df.columns, outputCol=\"features\", handleInvalid='keep')\n",
    "features_df = assembler.transform(new_df).select(\"features\")\n",
    "features_df.show()"
   ]
  },
  {
   "cell_type": "code",
   "execution_count": 31,
   "id": "814a0fe8",
   "metadata": {},
   "outputs": [
    {
     "name": "stdout",
     "output_type": "stream",
     "text": [
      "+--------------------+--------------------+\n",
      "|            features|      scaledFeatures|\n",
      "+--------------------+--------------------+\n",
      "|[11.0,289.0,36.0,...|[0.57894736842105...|\n",
      "|[36.0,118.0,13.0,...|[1.89473684210526...|\n",
      "|[3.0,179.0,51.0,1...|[0.15789473684210...|\n",
      "|[7.0,279.0,5.0,14...|[0.36842105263157...|\n",
      "|[11.0,289.0,36.0,...|[0.57894736842105...|\n",
      "|[3.0,179.0,51.0,1...|[0.15789473684210...|\n",
      "|[10.0,361.0,52.0,...|[0.52631578947368...|\n",
      "|[20.0,260.0,50.0,...|[1.05263157894736...|\n",
      "|[14.0,155.0,12.0,...|[0.73684210526315...|\n",
      "|[1.0,235.0,11.0,1...|[0.05263157894736...|\n",
      "|[20.0,260.0,50.0,...|[1.05263157894736...|\n",
      "|[20.0,260.0,50.0,...|[1.05263157894736...|\n",
      "|[20.0,260.0,50.0,...|[1.05263157894736...|\n",
      "|[3.0,179.0,51.0,1...|[0.15789473684210...|\n",
      "|[3.0,179.0,51.0,1...|[0.15789473684210...|\n",
      "|[24.0,246.0,25.0,...|[1.26315789473684...|\n",
      "|[3.0,179.0,51.0,1...|[0.15789473684210...|\n",
      "|[3.0,179.0,51.0,1...|[0.15789473684210...|\n",
      "|[6.0,189.0,29.0,1...|[0.31578947368421...|\n",
      "|[33.0,248.0,25.0,...|[1.73684210526315...|\n",
      "+--------------------+--------------------+\n",
      "only showing top 20 rows\n",
      "\n"
     ]
    }
   ],
   "source": [
    "# Scale using Robust Scaler - noting high standard deviations with majority of numeric variables\n",
    "# https://spark.apache.org/docs/latest/ml-features#robustscaler\n",
    "from pyspark.ml.feature import RobustScaler\n",
    "scaler = RobustScaler(inputCol='features', outputCol='scaledFeatures')\n",
    "data_scale=scaler.fit(features_df)\n",
    "scaled_features=data_scale.transform(features_df)\n",
    "scaled_features.show() # Scaled values"
   ]
  },
  {
   "cell_type": "code",
   "execution_count": 65,
   "id": "9555016b",
   "metadata": {},
   "outputs": [
    {
     "name": "stdout",
     "output_type": "stream",
     "text": [
      "+--------------------+--------------------+--------------------+\n",
      "|            features|      scaledFeatures|         PCAFeatures|\n",
      "+--------------------+--------------------+--------------------+\n",
      "|[11.0,289.0,36.0,...|[0.57894736842105...|[-29.518529288652...|\n",
      "|[36.0,118.0,13.0,...|[1.89473684210526...|[-30.089543168529...|\n",
      "|[3.0,179.0,51.0,1...|[0.15789473684210...|[-28.913580202213...|\n",
      "|[7.0,279.0,5.0,14...|[0.36842105263157...|[-28.997945944158...|\n",
      "|[11.0,289.0,36.0,...|[0.57894736842105...|[-29.109828840173...|\n",
      "|[3.0,179.0,51.0,1...|[0.15789473684210...|[-28.873109235850...|\n",
      "|[10.0,361.0,52.0,...|[0.52631578947368...|[-29.783740158974...|\n",
      "|[20.0,260.0,50.0,...|[1.05263157894736...|[-28.814946737301...|\n",
      "|[14.0,155.0,12.0,...|[0.73684210526315...|[-38.777914487387...|\n",
      "|[1.0,235.0,11.0,1...|[0.05263157894736...|[-30.140669118281...|\n",
      "|[20.0,260.0,50.0,...|[1.05263157894736...|[-29.600487321591...|\n",
      "|[20.0,260.0,50.0,...|[1.05263157894736...|[-29.560016355228...|\n",
      "|[20.0,260.0,50.0,...|[1.05263157894736...|[-29.533752520459...|\n",
      "|[3.0,179.0,51.0,1...|[0.15789473684210...|[-28.874775829749...|\n",
      "|[3.0,179.0,51.0,1...|[0.15789473684210...|[-29.200435877917...|\n",
      "|[24.0,246.0,25.0,...|[1.26315789473684...|[-29.869866243987...|\n",
      "|[3.0,179.0,51.0,1...|[0.15789473684210...|[-28.873109235850...|\n",
      "|[3.0,179.0,51.0,1...|[0.15789473684210...|[-30.003629643281...|\n",
      "|[6.0,189.0,29.0,1...|[0.31578947368421...|[-29.186643234199...|\n",
      "|[33.0,248.0,25.0,...|[1.73684210526315...|[-27.987609846477...|\n",
      "+--------------------+--------------------+--------------------+\n",
      "only showing top 20 rows\n",
      "\n"
     ]
    }
   ],
   "source": [
    "# PCA for dimensionality reduction\n",
    "# https://spark.apache.org/docs/latest/ml-features.html#pca\n",
    "from pyspark.ml.feature import PCA\n",
    "pca = PCA(k=10, inputCol='scaledFeatures', outputCol='PCAFeatures')\n",
    "model = pca.fit(scaled_features)\n",
    "result = model.transform(scaled_features)\n",
    "result.show()"
   ]
  },
  {
   "cell_type": "code",
   "execution_count": 36,
   "id": "6e2828bb",
   "metadata": {},
   "outputs": [
    {
     "data": {
      "text/plain": [
       "DenseVector([0.309, 0.2216, 0.1201, 0.0633, 0.0579, 0.0463, 0.0378, 0.0336, 0.0283, 0.0222])"
      ]
     },
     "execution_count": 36,
     "metadata": {},
     "output_type": "execute_result"
    }
   ],
   "source": [
    "# https://spark.apache.org/docs/latest/api/python/reference/api/pyspark.ml.feature.PCA.html\n",
    "# PCA 1 = 31%, PCA 2 = 22%, PCA 3 = 12%, PCA 4 = 6%, PCA 5 = 6% .... 94% covered in 10 components \n",
    "model.explainedVariance"
   ]
  },
  {
   "cell_type": "code",
   "execution_count": 66,
   "id": "a9e910c1",
   "metadata": {},
   "outputs": [
    {
     "name": "stdout",
     "output_type": "stream",
     "text": [
      "Silhouette Score: 0.7234172790092293\n",
      "Silhouette Score: 0.33160803606310213\n",
      "Silhouette Score: 0.24405840925051367\n",
      "Silhouette Score: 0.25953821077188277\n",
      "Silhouette Score: 0.2494680505931106\n",
      "Silhouette Score: 0.24741753680948236\n",
      "Silhouette Score: 0.24291180470239282\n",
      "Silhouette Score: 0.28328919571540345\n"
     ]
    }
   ],
   "source": [
    "# https://towardsdatascience.com/k-means-clustering-using-pyspark-on-big-data-6214beacdc8b\n",
    "from pyspark.ml.clustering import KMeans\n",
    "from pyspark.ml.evaluation import ClusteringEvaluator\n",
    "silhouette_score=[]\n",
    "evaluator = ClusteringEvaluator(predictionCol='prediction', featuresCol='PCAFeatures', metricName='silhouette')\n",
    "for i in range(2,10):\n",
    "    KMeans_model=KMeans(featuresCol='PCAFeatures', k=i)\n",
    "    KMeans_fit=KMeans_model.fit(result)\n",
    "    output=KMeans_fit.transform(result)\n",
    "    \n",
    "    score=evaluator.evaluate(output)\n",
    "    silhouette_score.append(score)\n",
    "    print(\"Silhouette Score:\",score)\n"
   ]
  },
  {
   "cell_type": "code",
   "execution_count": 67,
   "id": "55268a79",
   "metadata": {},
   "outputs": [
    {
     "data": {
      "text/plain": [
       "Text(0, 0.5, 'Score')"
      ]
     },
     "execution_count": 67,
     "metadata": {},
     "output_type": "execute_result"
    },
    {
     "data": {
      "image/png": "[encoded data removed]",
      "text/plain": [
       "<Figure size 576x432 with 1 Axes>"
      ]
     },
     "metadata": {
      "needs_background": "light"
     },
     "output_type": "display_data"
    }
   ],
   "source": [
    "# Visualise scores\n",
    "import matplotlib.pyplot as plt\n",
    "fig, axis=plt.subplots(1,1, figsize=(8,6))\n",
    "axis.plot(range(2,10), silhouette_score)\n",
    "axis.set_xlabel('Number of clusters')\n",
    "axis.set_ylabel('Score')"
   ]
  },
  {
   "cell_type": "code",
   "execution_count": 70,
   "id": "d34091d4",
   "metadata": {},
   "outputs": [
    {
     "name": "stdout",
     "output_type": "stream",
     "text": [
      "Silhouette Score: 0.7234172790092293\n",
      "Silhouette Score: 0.33160803606310213\n",
      "Silhouette Score: 0.24405840925051367\n",
      "Silhouette Score: 0.25953821077188277\n",
      "Silhouette Score: 0.2494680505931106\n",
      "Silhouette Score: 0.24741753680948236\n",
      "Silhouette Score: 0.24291180470239282\n",
      "Silhouette Score: 0.28328919571540345\n",
      "Silhouette Score: 0.3105733074347437\n",
      "Silhouette Score: 0.31949857857372493\n",
      "Silhouette Score: 0.28819886777368264\n",
      "Silhouette Score: 0.3682986803166066\n",
      "Silhouette Score: 0.35071589143070475\n"
     ]
    },
    {
     "data": {
      "text/plain": [
       "Text(0, 0.5, 'Score')"
      ]
     },
     "execution_count": 70,
     "metadata": {},
     "output_type": "execute_result"
    },
    {
     "data": {
      "image/png": "[encoded data removed]",
      "text/plain": [
       "<Figure size 576x432 with 1 Axes>"
      ]
     },
     "metadata": {
      "needs_background": "light"
     },
     "output_type": "display_data"
    }
   ],
   "source": [
    "# Suggesting 9 clusters? \n",
    "silhouette_score=[]\n",
    "evaluator = ClusteringEvaluator(predictionCol='prediction', featuresCol='PCAFeatures', metricName='silhouette')\n",
    "for i in range(2,15):\n",
    "    KMeans_model=KMeans(featuresCol='PCAFeatures', k=i)\n",
    "    KMeans_fit=KMeans_model.fit(result)\n",
    "    output=KMeans_fit.transform(result)\n",
    "    \n",
    "    score=evaluator.evaluate(output)\n",
    "    silhouette_score.append(score)\n",
    "    print(\"Silhouette Score:\",score)\n",
    "\n",
    "fig, axis=plt.subplots(1,1, figsize=(8,6))\n",
    "axis.plot(range(2,15), silhouette_score)\n",
    "axis.set_xlabel('Number of clusters')\n",
    "axis.set_ylabel('Score')"
   ]
  },
  {
   "cell_type": "code",
   "execution_count": 71,
   "id": "ab0c09b7",
   "metadata": {},
   "outputs": [
    {
     "name": "stdout",
     "output_type": "stream",
     "text": [
      "Silhouette Score: 0.7091755657691248\n",
      "Silhouette Score: 0.1784007996447161\n",
      "Silhouette Score: 0.33900099388581606\n",
      "Silhouette Score: 0.23185693917442285\n",
      "Silhouette Score: 0.21866165252280284\n",
      "Silhouette Score: 0.20845857182353553\n",
      "Silhouette Score: 0.21222832763647184\n",
      "Silhouette Score: 0.21309655000705022\n"
     ]
    }
   ],
   "source": [
    "# Without PCA\n",
    "silhouette_score=[]\n",
    "evaluator = ClusteringEvaluator(predictionCol='prediction', featuresCol='scaledFeatures', metricName='silhouette')\n",
    "for i in range(2,10):\n",
    "    KMeans_model=KMeans(featuresCol='scaledFeatures', k=i)\n",
    "    KMeans_fit=KMeans_model.fit(scaled_features)\n",
    "    output=KMeans_fit.transform(scaled_features)\n",
    "    \n",
    "    score=evaluator.evaluate(output)\n",
    "    silhouette_score.append(score)\n",
    "    print(\"Silhouette Score:\",score)\n"
   ]
  },
  {
   "cell_type": "code",
   "execution_count": 72,
   "id": "f4826b6a",
   "metadata": {
    "scrolled": true
   },
   "outputs": [
    {
     "data": {
      "text/plain": [
       "Text(0, 0.5, 'Cost')"
      ]
     },
     "execution_count": 72,
     "metadata": {},
     "output_type": "execute_result"
    },
    {
     "data": {
      "image/png": "[encoded data removed]",
      "text/plain": [
       "<Figure size 576x432 with 1 Axes>"
      ]
     },
     "metadata": {
      "needs_background": "light"
     },
     "output_type": "display_data"
    }
   ],
   "source": [
    "fig, axis=plt.subplots(1,1, figsize=(8,6))\n",
    "axis.plot(range(2,10), silhouette_score)\n",
    "axis.set_xlabel('Number of clusters')\n",
    "axis.set_ylabel('Cost')"
   ]
  },
  {
   "cell_type": "code",
   "execution_count": null,
   "id": "c1162107",
   "metadata": {},
   "outputs": [],
   "source": []
  }
 ],
 "metadata": {
  "kernelspec": {
   "display_name": "Python 3 (ipykernel)",
   "language": "python",
   "name": "python3"
  },
  "language_info": {
   "codemirror_mode": {
    "name": "ipython",
    "version": 3
   },
   "file_extension": ".py",
   "mimetype": "text/x-python",
   "name": "python",
   "nbconvert_exporter": "python",
   "pygments_lexer": "ipython3",
   "version": "3.9.7"
  }
 },
 "nbformat": 4,
 "nbformat_minor": 5
}
